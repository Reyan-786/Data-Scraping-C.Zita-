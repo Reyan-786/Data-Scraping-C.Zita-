{
 "cells": [
  {
   "cell_type": "code",
   "execution_count": 1,
   "id": "b997e9de",
   "metadata": {},
   "outputs": [],
   "source": [
    "from bs4 import BeautifulSoup\n",
    "import requests\n",
    "import lxml\n",
    "import pandas as pd\n"
   ]
  },
  {
   "cell_type": "code",
   "execution_count": 2,
   "id": "66cb1d33",
   "metadata": {},
   "outputs": [],
   "source": [
    "url='https://www.worldometers.info/world-population/'"
   ]
  },
  {
   "cell_type": "code",
   "execution_count": 3,
   "id": "bfb96963",
   "metadata": {},
   "outputs": [],
   "source": [
    "page =requests.get(url)"
   ]
  },
  {
   "cell_type": "code",
   "execution_count": 4,
   "id": "769a586e",
   "metadata": {},
   "outputs": [
    {
     "data": {
      "text/plain": [
       "<Response [200]>"
      ]
     },
     "execution_count": 4,
     "metadata": {},
     "output_type": "execute_result"
    }
   ],
   "source": [
    "page"
   ]
  },
  {
   "cell_type": "code",
   "execution_count": 5,
   "id": "efd9e2e7",
   "metadata": {},
   "outputs": [],
   "source": [
    "soup=BeautifulSoup(page.text,'lxml')"
   ]
  },
  {
   "cell_type": "code",
   "execution_count": 59,
   "id": "3686da11",
   "metadata": {},
   "outputs": [],
   "source": [
    "table = soup.find('table',class_='table table-striped table-bordered table-hover table-condensed table-list')"
   ]
  },
  {
   "cell_type": "code",
   "execution_count": 60,
   "id": "98578db4",
   "metadata": {},
   "outputs": [],
   "source": [
    "header = table.find_all('th')"
   ]
  },
  {
   "cell_type": "code",
   "execution_count": 86,
   "id": "8a4c3d80",
   "metadata": {},
   "outputs": [],
   "source": [
    "Table_Heading =[]\n",
    "for i in header :\n",
    "    head = i.text\n",
    "    Table_Heading.append(head)"
   ]
  },
  {
   "cell_type": "code",
   "execution_count": 87,
   "id": "a4d5895a",
   "metadata": {},
   "outputs": [],
   "source": [
    "df=pd.DataFrame(columns=[header])"
   ]
  },
  {
   "cell_type": "code",
   "execution_count": 75,
   "id": "e0a81eab",
   "metadata": {},
   "outputs": [],
   "source": [
    "table_row= table.find_all('tr')"
   ]
  },
  {
   "cell_type": "code",
   "execution_count": 76,
   "id": "f9edfcb8",
   "metadata": {},
   "outputs": [],
   "source": [
    "x=table.find_all('tr')[1].text"
   ]
  },
  {
   "cell_type": "code",
   "execution_count": 77,
   "id": "7aec604c",
   "metadata": {},
   "outputs": [],
   "source": [
    "x=x.strip()"
   ]
  },
  {
   "cell_type": "code",
   "execution_count": 78,
   "id": "5d376713",
   "metadata": {},
   "outputs": [
    {
     "data": {
      "text/plain": [
       "'2020 7,794,798,739 1.05 % 81,330,639 30.9 2.47 52'"
      ]
     },
     "execution_count": 78,
     "metadata": {},
     "output_type": "execute_result"
    }
   ],
   "source": [
    "x"
   ]
  },
  {
   "cell_type": "code",
   "execution_count": 79,
   "id": "abbe1fa8",
   "metadata": {},
   "outputs": [],
   "source": [
    "x=x.split(' ')"
   ]
  },
  {
   "cell_type": "code",
   "execution_count": 89,
   "id": "5db456cb",
   "metadata": {},
   "outputs": [],
   "source": [
    "row=[]\n",
    "for i in table.find_all('tr')[1:]:\n",
    "    row_data =i.find_all('td')\n",
    "    row=[tr.text for tr in row_data]\n",
    "    length=len(df)\n",
    "    df.loc[length]=row\n",
    "\n",
    "    \n",
    "    "
   ]
  },
  {
   "cell_type": "code",
   "execution_count": null,
   "id": "4d6c96e7",
   "metadata": {},
   "outputs": [],
   "source": []
  },
  {
   "cell_type": "code",
   "execution_count": 90,
   "id": "505c7474",
   "metadata": {},
   "outputs": [
    {
     "data": {
      "text/html": [
       "<div>\n",
       "<style scoped>\n",
       "    .dataframe tbody tr th:only-of-type {\n",
       "        vertical-align: middle;\n",
       "    }\n",
       "\n",
       "    .dataframe tbody tr th {\n",
       "        vertical-align: top;\n",
       "    }\n",
       "\n",
       "    .dataframe thead tr th {\n",
       "        text-align: left;\n",
       "    }\n",
       "</style>\n",
       "<table border=\"1\" class=\"dataframe\">\n",
       "  <thead>\n",
       "    <tr>\n",
       "      <th></th>\n",
       "      <th>[Year, [],  (July 1) ]</th>\n",
       "      <th>[Population]</th>\n",
       "      <th>[Yearly % , [],  Change]</th>\n",
       "      <th>[Yearly, [],  Change]</th>\n",
       "      <th>[Median , [], Age]</th>\n",
       "      <th>[Fertility , [], Rate]</th>\n",
       "      <th>[Density , [], (P/Km²)]</th>\n",
       "    </tr>\n",
       "  </thead>\n",
       "  <tbody>\n",
       "    <tr>\n",
       "      <th>0</th>\n",
       "      <td>2020</td>\n",
       "      <td>7,794,798,739</td>\n",
       "      <td>1.05 %</td>\n",
       "      <td>81,330,639</td>\n",
       "      <td>30.9</td>\n",
       "      <td>2.47</td>\n",
       "      <td>52</td>\n",
       "    </tr>\n",
       "    <tr>\n",
       "      <th>1</th>\n",
       "      <td>2019</td>\n",
       "      <td>7,713,468,100</td>\n",
       "      <td>1.08 %</td>\n",
       "      <td>82,377,060</td>\n",
       "      <td>29.8</td>\n",
       "      <td>2.51</td>\n",
       "      <td>52</td>\n",
       "    </tr>\n",
       "    <tr>\n",
       "      <th>2</th>\n",
       "      <td>2018</td>\n",
       "      <td>7,631,091,040</td>\n",
       "      <td>1.10 %</td>\n",
       "      <td>83,232,115</td>\n",
       "      <td>29.8</td>\n",
       "      <td>2.51</td>\n",
       "      <td>51</td>\n",
       "    </tr>\n",
       "    <tr>\n",
       "      <th>3</th>\n",
       "      <td>2017</td>\n",
       "      <td>7,547,858,925</td>\n",
       "      <td>1.12 %</td>\n",
       "      <td>83,836,876</td>\n",
       "      <td>29.8</td>\n",
       "      <td>2.51</td>\n",
       "      <td>51</td>\n",
       "    </tr>\n",
       "    <tr>\n",
       "      <th>4</th>\n",
       "      <td>2016</td>\n",
       "      <td>7,464,022,049</td>\n",
       "      <td>1.14 %</td>\n",
       "      <td>84,224,910</td>\n",
       "      <td>29.8</td>\n",
       "      <td>2.51</td>\n",
       "      <td>50</td>\n",
       "    </tr>\n",
       "    <tr>\n",
       "      <th>5</th>\n",
       "      <td>2015</td>\n",
       "      <td>7,379,797,139</td>\n",
       "      <td>1.19 %</td>\n",
       "      <td>84,594,707</td>\n",
       "      <td>30</td>\n",
       "      <td>2.52</td>\n",
       "      <td>50</td>\n",
       "    </tr>\n",
       "    <tr>\n",
       "      <th>6</th>\n",
       "      <td>2010</td>\n",
       "      <td>6,956,823,603</td>\n",
       "      <td>1.24 %</td>\n",
       "      <td>82,983,315</td>\n",
       "      <td>28</td>\n",
       "      <td>2.58</td>\n",
       "      <td>47</td>\n",
       "    </tr>\n",
       "    <tr>\n",
       "      <th>7</th>\n",
       "      <td>2005</td>\n",
       "      <td>6,541,907,027</td>\n",
       "      <td>1.26 %</td>\n",
       "      <td>79,682,641</td>\n",
       "      <td>27</td>\n",
       "      <td>2.65</td>\n",
       "      <td>44</td>\n",
       "    </tr>\n",
       "    <tr>\n",
       "      <th>8</th>\n",
       "      <td>2000</td>\n",
       "      <td>6,143,493,823</td>\n",
       "      <td>1.35 %</td>\n",
       "      <td>79,856,169</td>\n",
       "      <td>26</td>\n",
       "      <td>2.78</td>\n",
       "      <td>41</td>\n",
       "    </tr>\n",
       "    <tr>\n",
       "      <th>9</th>\n",
       "      <td>1995</td>\n",
       "      <td>5,744,212,979</td>\n",
       "      <td>1.52 %</td>\n",
       "      <td>83,396,384</td>\n",
       "      <td>25</td>\n",
       "      <td>3.01</td>\n",
       "      <td>39</td>\n",
       "    </tr>\n",
       "    <tr>\n",
       "      <th>10</th>\n",
       "      <td>1990</td>\n",
       "      <td>5,327,231,061</td>\n",
       "      <td>1.81 %</td>\n",
       "      <td>91,261,864</td>\n",
       "      <td>24</td>\n",
       "      <td>3.44</td>\n",
       "      <td>36</td>\n",
       "    </tr>\n",
       "    <tr>\n",
       "      <th>11</th>\n",
       "      <td>1985</td>\n",
       "      <td>4,870,921,740</td>\n",
       "      <td>1.79 %</td>\n",
       "      <td>82,583,645</td>\n",
       "      <td>23</td>\n",
       "      <td>3.59</td>\n",
       "      <td>33</td>\n",
       "    </tr>\n",
       "    <tr>\n",
       "      <th>12</th>\n",
       "      <td>1980</td>\n",
       "      <td>4,458,003,514</td>\n",
       "      <td>1.79 %</td>\n",
       "      <td>75,704,582</td>\n",
       "      <td>23</td>\n",
       "      <td>3.86</td>\n",
       "      <td>30</td>\n",
       "    </tr>\n",
       "    <tr>\n",
       "      <th>13</th>\n",
       "      <td>1975</td>\n",
       "      <td>4,079,480,606</td>\n",
       "      <td>1.97 %</td>\n",
       "      <td>75,808,712</td>\n",
       "      <td>22</td>\n",
       "      <td>4.47</td>\n",
       "      <td>27</td>\n",
       "    </tr>\n",
       "    <tr>\n",
       "      <th>14</th>\n",
       "      <td>1970</td>\n",
       "      <td>3,700,437,046</td>\n",
       "      <td>2.07 %</td>\n",
       "      <td>72,170,690</td>\n",
       "      <td>22</td>\n",
       "      <td>4.93</td>\n",
       "      <td>25</td>\n",
       "    </tr>\n",
       "    <tr>\n",
       "      <th>15</th>\n",
       "      <td>1965</td>\n",
       "      <td>3,339,583,597</td>\n",
       "      <td>1.93 %</td>\n",
       "      <td>60,926,770</td>\n",
       "      <td>22</td>\n",
       "      <td>5.02</td>\n",
       "      <td>22</td>\n",
       "    </tr>\n",
       "    <tr>\n",
       "      <th>16</th>\n",
       "      <td>1960</td>\n",
       "      <td>3,034,949,748</td>\n",
       "      <td>1.82 %</td>\n",
       "      <td>52,385,962</td>\n",
       "      <td>23</td>\n",
       "      <td>4.90</td>\n",
       "      <td>20</td>\n",
       "    </tr>\n",
       "    <tr>\n",
       "      <th>17</th>\n",
       "      <td>1955</td>\n",
       "      <td>2,773,019,936</td>\n",
       "      <td>1.80 %</td>\n",
       "      <td>47,317,757</td>\n",
       "      <td>23</td>\n",
       "      <td>4.97</td>\n",
       "      <td>19</td>\n",
       "    </tr>\n",
       "  </tbody>\n",
       "</table>\n",
       "</div>"
      ],
      "text/plain": [
       "   [Year, [],  (July 1) ]   [Population] [Yearly % , [],  Change]  \\\n",
       "0                    2020  7,794,798,739                   1.05 %   \n",
       "1                    2019  7,713,468,100                   1.08 %   \n",
       "2                    2018  7,631,091,040                   1.10 %   \n",
       "3                    2017  7,547,858,925                   1.12 %   \n",
       "4                    2016  7,464,022,049                   1.14 %   \n",
       "5                    2015  7,379,797,139                   1.19 %   \n",
       "6                    2010  6,956,823,603                   1.24 %   \n",
       "7                    2005  6,541,907,027                   1.26 %   \n",
       "8                    2000  6,143,493,823                   1.35 %   \n",
       "9                    1995  5,744,212,979                   1.52 %   \n",
       "10                   1990  5,327,231,061                   1.81 %   \n",
       "11                   1985  4,870,921,740                   1.79 %   \n",
       "12                   1980  4,458,003,514                   1.79 %   \n",
       "13                   1975  4,079,480,606                   1.97 %   \n",
       "14                   1970  3,700,437,046                   2.07 %   \n",
       "15                   1965  3,339,583,597                   1.93 %   \n",
       "16                   1960  3,034,949,748                   1.82 %   \n",
       "17                   1955  2,773,019,936                   1.80 %   \n",
       "\n",
       "   [Yearly, [],  Change] [Median , [], Age] [Fertility , [], Rate]  \\\n",
       "0             81,330,639               30.9                   2.47   \n",
       "1             82,377,060               29.8                   2.51   \n",
       "2             83,232,115               29.8                   2.51   \n",
       "3             83,836,876               29.8                   2.51   \n",
       "4             84,224,910               29.8                   2.51   \n",
       "5             84,594,707                 30                   2.52   \n",
       "6             82,983,315                 28                   2.58   \n",
       "7             79,682,641                 27                   2.65   \n",
       "8             79,856,169                 26                   2.78   \n",
       "9             83,396,384                 25                   3.01   \n",
       "10            91,261,864                 24                   3.44   \n",
       "11            82,583,645                 23                   3.59   \n",
       "12            75,704,582                 23                   3.86   \n",
       "13            75,808,712                 22                   4.47   \n",
       "14            72,170,690                 22                   4.93   \n",
       "15            60,926,770                 22                   5.02   \n",
       "16            52,385,962                 23                   4.90   \n",
       "17            47,317,757                 23                   4.97   \n",
       "\n",
       "   [Density , [], (P/Km²)]  \n",
       "0                       52  \n",
       "1                       52  \n",
       "2                       51  \n",
       "3                       51  \n",
       "4                       50  \n",
       "5                       50  \n",
       "6                       47  \n",
       "7                       44  \n",
       "8                       41  \n",
       "9                       39  \n",
       "10                      36  \n",
       "11                      33  \n",
       "12                      30  \n",
       "13                      27  \n",
       "14                      25  \n",
       "15                      22  \n",
       "16                      20  \n",
       "17                      19  "
      ]
     },
     "execution_count": 90,
     "metadata": {},
     "output_type": "execute_result"
    }
   ],
   "source": [
    "df"
   ]
  },
  {
   "cell_type": "code",
   "execution_count": 82,
   "id": "f1261f5e",
   "metadata": {},
   "outputs": [],
   "source": []
  },
  {
   "cell_type": "code",
   "execution_count": 83,
   "id": "0bc82bed",
   "metadata": {},
   "outputs": [],
   "source": [
    "import os\n",
    "os.chdir('C:/Users/asus/OneDrive/Desktop/UDEMY_DATA_SCRAPING_CHRISTOPHER_ZITA')"
   ]
  },
  {
   "cell_type": "code",
   "execution_count": 84,
   "id": "cd6c6833",
   "metadata": {},
   "outputs": [],
   "source": [
    "df.to_csv('Web Scraping.csv')"
   ]
  },
  {
   "cell_type": "code",
   "execution_count": null,
   "id": "8af06c5a",
   "metadata": {},
   "outputs": [],
   "source": []
  }
 ],
 "metadata": {
  "kernelspec": {
   "display_name": "Python 3",
   "language": "python",
   "name": "python3"
  },
  "language_info": {
   "codemirror_mode": {
    "name": "ipython",
    "version": 3
   },
   "file_extension": ".py",
   "mimetype": "text/x-python",
   "name": "python",
   "nbconvert_exporter": "python",
   "pygments_lexer": "ipython3",
   "version": "3.10.7"
  }
 },
 "nbformat": 4,
 "nbformat_minor": 5
}
