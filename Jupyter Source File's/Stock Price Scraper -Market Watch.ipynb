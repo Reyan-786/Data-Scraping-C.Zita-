{
 "cells": [
  {
   "cell_type": "code",
   "execution_count": 7,
   "id": "798febc8",
   "metadata": {},
   "outputs": [],
   "source": [
    "from bs4 import BeautifulSoup\n",
    "import re \n",
    "import requests\n",
    "import lxml\n",
    "import pandas as pd\n"
   ]
  },
  {
   "cell_type": "code",
   "execution_count": 173,
   "id": "6fb09be6",
   "metadata": {},
   "outputs": [],
   "source": [
    "url='https://www.marketwatch.com/investing/stock/aapl?mod=search_symbol'\n",
    "page=requests.get(url)"
   ]
  },
  {
   "cell_type": "code",
   "execution_count": 174,
   "id": "7201bdf0",
   "metadata": {},
   "outputs": [
    {
     "data": {
      "text/plain": [
       "<Response [200]>"
      ]
     },
     "execution_count": 174,
     "metadata": {},
     "output_type": "execute_result"
    }
   ],
   "source": [
    "page"
   ]
  },
  {
   "cell_type": "code",
   "execution_count": 175,
   "id": "d2d9f623",
   "metadata": {},
   "outputs": [],
   "source": [
    "soup=BeautifulSoup(page.text,'lxml')"
   ]
  },
  {
   "cell_type": "code",
   "execution_count": 176,
   "id": "b3466e9a",
   "metadata": {},
   "outputs": [
    {
     "data": {
      "text/plain": [
       "'150.88'"
      ]
     },
     "execution_count": 176,
     "metadata": {},
     "output_type": "execute_result"
    }
   ],
   "source": [
    "LIVE_PRICE=soup.find('bg-quote',class_='value').text\n",
    "LIVE_PRICE\n"
   ]
  },
  {
   "cell_type": "code",
   "execution_count": 177,
   "id": "13205e00",
   "metadata": {},
   "outputs": [
    {
     "data": {
      "text/plain": [
       "'$151.29 '"
      ]
     },
     "execution_count": 177,
     "metadata": {},
     "output_type": "execute_result"
    }
   ],
   "source": [
    "CLOSING_PRICE = soup.find_all('td',class_='table__cell u-semi')[0].text\n",
    "CLOSING_PRICE"
   ]
  },
  {
   "cell_type": "code",
   "execution_count": 178,
   "id": "de20f534",
   "metadata": {},
   "outputs": [],
   "source": [
    "ALL_YEAR_HIGH_LOW=[]\n",
    "low=soup.find_all('span',class_='primary')[4].text\n",
    "high=soup.find_all('span',class_='primary')[5].text"
   ]
  },
  {
   "cell_type": "code",
   "execution_count": 179,
   "id": "421cbf58",
   "metadata": {},
   "outputs": [
    {
     "data": {
      "text/plain": [
       "['129.04', '182.94']"
      ]
     },
     "execution_count": 179,
     "metadata": {},
     "output_type": "execute_result"
    }
   ],
   "source": [
    "ALL_YEAR_HIGH_LOW.append(low)\n",
    "ALL_YEAR_HIGH_LOW.append(high)\n",
    "ALL_YEAR_HIGH_LOW"
   ]
  },
  {
   "cell_type": "code",
   "execution_count": 180,
   "id": "59a28edc",
   "metadata": {},
   "outputs": [],
   "source": [
    "ANALYST_RATING = soup.find_all('li',class_='analyst__option active')[0].text"
   ]
  },
  {
   "cell_type": "code",
   "execution_count": 181,
   "id": "668b382b",
   "metadata": {},
   "outputs": [],
   "source": [
    "# ALL_YEAR_HIGH_LOW[0]='$'+ALL_YEAR_HIGH_LOW[0]\n",
    "low=ALL_YEAR_HIGH_LOW[0]\n"
   ]
  },
  {
   "cell_type": "code",
   "execution_count": 182,
   "id": "9ceb449a",
   "metadata": {},
   "outputs": [],
   "source": [
    "LIST=[{'live':LIVE_PRICE,'closing':CLOSING_PRICE,'52 week low':ALL_YEAR_HIGH_LOW[0],'52 week high':high,'Analyst opinion':ANALYST_RATING}]"
   ]
  },
  {
   "cell_type": "code",
   "execution_count": 183,
   "id": "23e3869e",
   "metadata": {},
   "outputs": [
    {
     "data": {
      "text/plain": [
       "[{'live': '150.88',\n",
       "  'closing': '$151.29 ',\n",
       "  '52 week low': '129.04',\n",
       "  '52 week high': '182.94',\n",
       "  'Analyst opinion': 'Over'}]"
      ]
     },
     "execution_count": 183,
     "metadata": {},
     "output_type": "execute_result"
    }
   ],
   "source": [
    "LIST"
   ]
  },
  {
   "cell_type": "code",
   "execution_count": 187,
   "id": "075fd8c3",
   "metadata": {},
   "outputs": [],
   "source": [
    "stock1=pd.DataFrame(LIST,index=['AAPL'])"
   ]
  },
  {
   "cell_type": "code",
   "execution_count": 188,
   "id": "91d43764",
   "metadata": {},
   "outputs": [
    {
     "data": {
      "text/html": [
       "<div>\n",
       "<style scoped>\n",
       "    .dataframe tbody tr th:only-of-type {\n",
       "        vertical-align: middle;\n",
       "    }\n",
       "\n",
       "    .dataframe tbody tr th {\n",
       "        vertical-align: top;\n",
       "    }\n",
       "\n",
       "    .dataframe thead th {\n",
       "        text-align: right;\n",
       "    }\n",
       "</style>\n",
       "<table border=\"1\" class=\"dataframe\">\n",
       "  <thead>\n",
       "    <tr style=\"text-align: right;\">\n",
       "      <th></th>\n",
       "      <th>live</th>\n",
       "      <th>closing</th>\n",
       "      <th>52 week low</th>\n",
       "      <th>52 week high</th>\n",
       "      <th>Analyst opinion</th>\n",
       "    </tr>\n",
       "  </thead>\n",
       "  <tbody>\n",
       "    <tr>\n",
       "      <th>AAPL</th>\n",
       "      <td>150.88</td>\n",
       "      <td>$151.29</td>\n",
       "      <td>129.04</td>\n",
       "      <td>182.94</td>\n",
       "      <td>Over</td>\n",
       "    </tr>\n",
       "  </tbody>\n",
       "</table>\n",
       "</div>"
      ],
      "text/plain": [
       "        live   closing 52 week low 52 week high Analyst opinion\n",
       "AAPL  150.88  $151.29       129.04       182.94            Over"
      ]
     },
     "execution_count": 188,
     "metadata": {},
     "output_type": "execute_result"
    }
   ],
   "source": [
    "stock1"
   ]
  },
  {
   "cell_type": "code",
   "execution_count": 189,
   "id": "99798c89",
   "metadata": {},
   "outputs": [],
   "source": [
    "nested=soup.find('mw-rangebar',class_='element element--range range--yearly')"
   ]
  },
  {
   "cell_type": "code",
   "execution_count": 190,
   "id": "264d1fba",
   "metadata": {},
   "outputs": [],
   "source": [
    "low=nested.find_all('span',class_='primary')[0].text"
   ]
  },
  {
   "cell_type": "code",
   "execution_count": 191,
   "id": "f34a5aee",
   "metadata": {},
   "outputs": [],
   "source": [
    "high=nested.find_all('span',class_='primary')[1].text"
   ]
  },
  {
   "cell_type": "code",
   "execution_count": 192,
   "id": "8388ad86",
   "metadata": {},
   "outputs": [
    {
     "data": {
      "text/plain": [
       "'182.94'"
      ]
     },
     "execution_count": 192,
     "metadata": {},
     "output_type": "execute_result"
    }
   ],
   "source": [
    "low\n",
    "high"
   ]
  },
  {
   "cell_type": "code",
   "execution_count": null,
   "id": "ce13eba7",
   "metadata": {},
   "outputs": [],
   "source": []
  },
  {
   "cell_type": "code",
   "execution_count": null,
   "id": "6fbc3420",
   "metadata": {},
   "outputs": [],
   "source": []
  },
  {
   "cell_type": "code",
   "execution_count": null,
   "id": "69bf2e2b",
   "metadata": {},
   "outputs": [],
   "source": []
  }
 ],
 "metadata": {
  "kernelspec": {
   "display_name": "Python 3",
   "language": "python",
   "name": "python3"
  },
  "language_info": {
   "codemirror_mode": {
    "name": "ipython",
    "version": 3
   },
   "file_extension": ".py",
   "mimetype": "text/x-python",
   "name": "python",
   "nbconvert_exporter": "python",
   "pygments_lexer": "ipython3",
   "version": "3.10.7"
  }
 },
 "nbformat": 4,
 "nbformat_minor": 5
}
