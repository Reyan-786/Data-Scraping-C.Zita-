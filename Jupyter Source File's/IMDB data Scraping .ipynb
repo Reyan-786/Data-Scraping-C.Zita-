{
 "cells": [
  {
   "cell_type": "markdown",
   "id": "5b8bd1b5",
   "metadata": {},
   "source": [
    "# RAW CODE"
   ]
  },
  {
   "cell_type": "code",
   "execution_count": 17,
   "id": "6c14e8ac",
   "metadata": {},
   "outputs": [],
   "source": [
    "from  selenium import webdriver\n",
    "import selenium \n",
    "import numpy as np\n",
    "import pandas as pd\n",
    "from bs4 import BeautifulSoup\n",
    "import requests\n",
    "import lxml\n",
    "from selenium.webdriver.common.keys import Keys\n",
    "import time "
   ]
  },
  {
   "cell_type": "code",
   "execution_count": 18,
   "id": "08e9f535",
   "metadata": {},
   "outputs": [
    {
     "name": "stderr",
     "output_type": "stream",
     "text": [
      "C:\\Users\\asus\\AppData\\Local\\Temp\\ipykernel_29192\\737330078.py:1: DeprecationWarning: executable_path has been deprecated, please pass in a Service object\n",
      "  driver = webdriver.Chrome('C:\\\\Users\\\\asus\\\\OneDrive\\\\Desktop\\\\Drivers\\\\chromedriver.exe')\n"
     ]
    }
   ],
   "source": [
    "driver = webdriver.Chrome('C:\\\\Users\\\\asus\\\\OneDrive\\\\Desktop\\\\Drivers\\\\chromedriver.exe')\n",
    "driver.get('https://www.google.com/')"
   ]
  },
  {
   "cell_type": "code",
   "execution_count": 19,
   "id": "65b834d6",
   "metadata": {},
   "outputs": [],
   "source": [
    "box = driver.find_element(by = 'xpath',value ='/html/body/div[1]/div[3]/form/div[1]/div[1]/div[1]/div/div[2]/input')"
   ]
  },
  {
   "cell_type": "code",
   "execution_count": 20,
   "id": "5f6840f4",
   "metadata": {},
   "outputs": [],
   "source": [
    "box.send_keys('top 100 movies of all time')\n",
    "box.send_keys(Keys.ENTER)"
   ]
  },
  {
   "cell_type": "code",
   "execution_count": 21,
   "id": "830dc3db",
   "metadata": {},
   "outputs": [],
   "source": [
    "driver.find_element(by = 'xpath',value = '//*[@id=\"rso\"]/div[2]/div/div/div/div[1]/div/div/div[1]/div/a').click()"
   ]
  },
  {
   "cell_type": "code",
   "execution_count": 22,
   "id": "046f3827",
   "metadata": {},
   "outputs": [],
   "source": [
    "time.sleep(10)"
   ]
  },
  {
   "cell_type": "code",
   "execution_count": 23,
   "id": "cd4446e9",
   "metadata": {},
   "outputs": [],
   "source": [
    "# while True:\n",
    "#     driver.execute_script('window.scrollTo(0,document.body.scrollHeight)')"
   ]
  },
  {
   "cell_type": "code",
   "execution_count": 33,
   "id": "088fb9b0",
   "metadata": {},
   "outputs": [
    {
     "data": {
      "text/plain": [
       "True"
      ]
     },
     "execution_count": 33,
     "metadata": {},
     "output_type": "execute_result"
    }
   ],
   "source": [
    "# driver.execute_script('return document.body.scrollHeight')\n",
    "driver.execute_script('window.scrollTo(0,22800)')\n",
    "import os\n",
    "os.chdir('C:/Users/asus/OneDrive/Desktop/UDEMY_DATA_SCRAPING_CHRISTOPHER_ZITA')\n",
    "driver.save_screenshot('jaws.png')"
   ]
  },
  {
   "cell_type": "code",
   "execution_count": 34,
   "id": "0f6b05df",
   "metadata": {},
   "outputs": [],
   "source": [
    "poster = driver.find_element(by='xpath',value = '//*[@id=\"main\"]/div/div[4]/div[3]/div[50]/div[1]/a/img')"
   ]
  },
  {
   "cell_type": "code",
   "execution_count": 35,
   "id": "e77fc3fe",
   "metadata": {},
   "outputs": [
    {
     "data": {
      "text/plain": [
       "True"
      ]
     },
     "execution_count": 35,
     "metadata": {},
     "output_type": "execute_result"
    }
   ],
   "source": [
    "poster.screenshot('jaws_poster.png')"
   ]
  },
  {
   "cell_type": "markdown",
   "id": "deb4a16c",
   "metadata": {},
   "source": [
    "# **Final Code**"
   ]
  },
  {
   "cell_type": "code",
   "execution_count": 36,
   "id": "98d4ed31",
   "metadata": {},
   "outputs": [
    {
     "name": "stderr",
     "output_type": "stream",
     "text": [
      "C:\\Users\\asus\\AppData\\Local\\Temp\\ipykernel_29192\\1234945092.py:2: DeprecationWarning: executable_path has been deprecated, please pass in a Service object\n",
      "  driver = webdriver.Chrome('C:\\\\Users\\\\asus\\\\OneDrive\\\\Desktop\\\\Drivers\\\\chromedriver.exe')\n"
     ]
    },
    {
     "data": {
      "text/plain": [
       "True"
      ]
     },
     "execution_count": 36,
     "metadata": {},
     "output_type": "execute_result"
    }
   ],
   "source": [
    "# opening the automated chrome browser\n",
    "driver = webdriver.Chrome('C:\\\\Users\\\\asus\\\\OneDrive\\\\Desktop\\\\Drivers\\\\chromedriver.exe')\n",
    "driver.get('https://www.google.com/')\n",
    "# using the input box for sending the key input\n",
    "box = driver.find_element(by = 'xpath',value ='/html/body/div[1]/div[3]/form/div[1]/div[1]/div[1]/div/div[2]/input')\n",
    "# sending the input\n",
    "box.send_keys('top 100 movies of all time')\n",
    "box.send_keys(Keys.ENTER)\n",
    "driver.find_element(by = 'xpath',value = '//*[@id=\"rso\"]/div[2]/div/div/div[1]/div/div/div[1]/div/a/h3').click()\n",
    "# setting the wait time /sleep to let  all the html of the page to load in.\n",
    "time.sleep(10)\n",
    "# taking the screenshot of the page .\n",
    "driver.execute_script('window.scrollTo(0,22800)')\n",
    "driver.save_screenshot('jaws.png')\n",
    "# taking the screen shot of the poster.\n",
    "poster = driver.find_element(by='xpath',value = '//*[@id=\"main\"]/div/div[4]/div[3]/div[50]/div[1]/a/img')\n",
    "poster.screenshot('jaws_poster.png')"
   ]
  },
  {
   "cell_type": "markdown",
   "id": "16090d1f",
   "metadata": {},
   "source": [
    "# Another Approach ->Not Completed"
   ]
  },
  {
   "cell_type": "code",
   "execution_count": 64,
   "id": "e17aac58",
   "metadata": {},
   "outputs": [
    {
     "data": {
      "text/plain": [
       "'driver = webdriver.Chrome(\\'C:\\\\Users\\\\asus\\\\OneDrive\\\\Desktop\\\\Drivers\\\\chromedriver.exe\\')\\ndriver.get(\\'https://www.google.com/\\')\\n\\nbox = driver.find_element(by = \\'xpath\\',value =\\'/html/body/div[1]/div[3]/form/div[1]/div[1]/div[1]/div/div[2]/input\\')\\n\\nbox.send_keys(\\'top 100 movies of all time\\')\\nbox.send_keys(Keys.ENTER)\\ndriver.find_element(by = \\'xpath\\',value = \\'//*[@id=\"rso\"]/div[2]/div/div/div[1]/div/div/div[1]/div/a/h3\\').click()\\n\\ntime.sleep(5)\\n\\ndriver.execute_script(\\'return document.body.scrollHeight\\')\\n\\n '"
      ]
     },
     "execution_count": 64,
     "metadata": {},
     "output_type": "execute_result"
    }
   ],
   "source": [
    "'''driver = webdriver.Chrome('C:\\\\Users\\\\asus\\\\OneDrive\\\\Desktop\\\\Drivers\\\\chromedriver.exe')\n",
    "driver.get('https://www.google.com/')\n",
    "\n",
    "box = driver.find_element(by = 'xpath',value ='/html/body/div[1]/div[3]/form/div[1]/div[1]/div[1]/div/div[2]/input')\n",
    "\n",
    "box.send_keys('top 100 movies of all time')\n",
    "box.send_keys(Keys.ENTER)\n",
    "driver.find_element(by = 'xpath',value = '//*[@id=\"rso\"]/div[2]/div/div/div[1]/div/div/div[1]/div/a/h3').click()\n",
    "\n",
    "time.sleep(5)\n",
    "\n",
    "driver.execute_script('return document.body.scrollHeight')\n",
    "\n",
    " '''"
   ]
  },
  {
   "cell_type": "code",
   "execution_count": null,
   "id": "effb9eef",
   "metadata": {},
   "outputs": [],
   "source": []
  },
  {
   "cell_type": "code",
   "execution_count": 42,
   "id": "972efd1d",
   "metadata": {},
   "outputs": [],
   "source": []
  },
  {
   "cell_type": "code",
   "execution_count": 44,
   "id": "aa14990f",
   "metadata": {},
   "outputs": [],
   "source": [
    "\n",
    "       \n",
    "       \n",
    "    "
   ]
  },
  {
   "cell_type": "code",
   "execution_count": null,
   "id": "145e0fa4",
   "metadata": {},
   "outputs": [],
   "source": []
  }
 ],
 "metadata": {
  "kernelspec": {
   "display_name": "Python 3",
   "language": "python",
   "name": "python3"
  },
  "language_info": {
   "codemirror_mode": {
    "name": "ipython",
    "version": 3
   },
   "file_extension": ".py",
   "mimetype": "text/x-python",
   "name": "python",
   "nbconvert_exporter": "python",
   "pygments_lexer": "ipython3",
   "version": "3.10.7"
  }
 },
 "nbformat": 4,
 "nbformat_minor": 5
}
