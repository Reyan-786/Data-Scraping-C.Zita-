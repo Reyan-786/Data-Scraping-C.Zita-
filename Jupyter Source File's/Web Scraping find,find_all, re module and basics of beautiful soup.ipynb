{
 "cells": [
  {
   "cell_type": "code",
   "execution_count": 1,
   "id": "705f8ccf",
   "metadata": {},
   "outputs": [],
   "source": [
    "import lxml"
   ]
  },
  {
   "cell_type": "code",
   "execution_count": 2,
   "id": "a0907710",
   "metadata": {},
   "outputs": [],
   "source": [
    "from bs4 import BeautifulSoup"
   ]
  },
  {
   "cell_type": "code",
   "execution_count": 3,
   "id": "2a30f5af",
   "metadata": {},
   "outputs": [],
   "source": [
    "import requests"
   ]
  },
  {
   "cell_type": "code",
   "execution_count": 4,
   "id": "6d1af0f3",
   "metadata": {},
   "outputs": [],
   "source": [
    "url='https://www.webscraper.io/test-sites/e-commerce/allinone'"
   ]
  },
  {
   "cell_type": "code",
   "execution_count": 5,
   "id": "8f64c3ee",
   "metadata": {},
   "outputs": [],
   "source": [
    "page=requests.get(url)"
   ]
  },
  {
   "cell_type": "code",
   "execution_count": 7,
   "id": "9950a715",
   "metadata": {},
   "outputs": [
    {
     "data": {
      "text/plain": [
       "<Response [200]>"
      ]
     },
     "execution_count": 7,
     "metadata": {},
     "output_type": "execute_result"
    }
   ],
   "source": [
    "page"
   ]
  },
  {
   "cell_type": "code",
   "execution_count": 8,
   "id": "a6cd3045",
   "metadata": {},
   "outputs": [
    {
     "data": {
      "text/plain": [
       "'<!DOCTYPE html>\\n<html lang=\"en\">\\n<head>\\n\\n\\t\\t\\t<!-- Anti-flicker snippet (recommended)  -->\\n<style>.async-hide {\\n\\t\\topacity: 0 !important\\n\\t} </style>\\n<script>(function (a, s, y, n, c, h, i, d, e) {\\n\\t\\ts.className += \\' \\' + y;\\n\\t\\th.start = 1 * new Date;\\n\\t\\th.end = i = function () {\\n\\t\\t\\ts.className = s.className.replace(RegExp(\\' ?\\' + y), \\'\\')\\n\\t\\t};\\n\\t\\t(a[n] = a[n] || []).hide = h;\\n\\t\\tsetTimeout(function () {\\n\\t\\t\\ti();\\n\\t\\t\\th.end = null\\n\\t\\t}, c);\\n\\t\\th.timeout = c;\\n\\t})(window, document.documentElement, \\'async-hide\\', \\'dataLayer\\', 4000,\\n\\t\\t{\\'GTM-NVFPDWB\\': true});</script>\\n\\t\\n\\t<!-- Google Tag Manager -->\\n<script>(function (w, d, s, l, i) {\\n\\t\\tw[l] = w[l] || [];\\n\\t\\tw[l].push({\\n\\t\\t\\t\\'gtm.start\\':\\n\\t\\t\\t\\tnew Date().getTime(), event: \\'gtm.js\\'\\n\\t\\t});\\n\\t\\tvar f = d.getElementsByTagName(s)[0],\\n\\t\\t\\tj = d.createElement(s), dl = l != \\'dataLayer\\' ? \\'&l=\\' + l : \\'\\';\\n\\t\\tj.async = true;\\n\\t\\tj.src =\\n\\t\\t\\t\\'https://www.googletagmanager.com/gtm.js?id=\\' + i + dl;\\n\\t\\tf.parentNode.insertBefore(j, f);\\n\\t})(window, document, \\'script\\', \\'dataLayer\\', \\'GTM-NVFPDWB\\');</script>\\n<!-- End Google Tag Manager -->\\n\\t<title>Web Scraper Test Sites</title>\\n\\t<meta charset=\"utf-8\">\\n\\t<meta http-equiv=\"X-UA-Compatible\" content=\"IE=edge,chrome=1\">\\n\\n\\t<meta name=\"keywords\"\\n\\t      content=\"web scraping,Web Scraper,Chrome extension,Crawling,Cross platform scraper\"/>\\n\\t<meta name=\"description\"\\n\\t      content=\"The most popular web scraping extension. Start scraping in minutes. Automate your tasks with our Cloud Scraper. No software to download, no coding needed.\"/>\\n\\t<link rel=\"icon\" sizes=\"128x128\" href=\"/favicon.png\">\\n\\n\\t<meta name=\"viewport\" content=\"width=device-width, initial-scale=1.0\">\\n\\t\\n\\t<link rel=\"stylesheet\" href=\"/css/app.css?id=e30a09b05325a08d79dd\">\\n\\n\\t<link rel=\"canonical\" href=\"https://webscraper.io/test-sites/e-commerce/allinone\">\\n\\t<link rel=\"apple-touch-icon\" href=\"/img/logo-icon.png\">\\n\\n\\t\\t<script defer src=\"/js/app.js?id=1c1cafc4a642f71eb469\"></script>\\n\\n\\t\\n</head>\\n<body>\\n<!-- Google Tag Manager (noscript) -->\\n<noscript>\\n\\t<iframe src=\"https://www.googletagmanager.com/ns.html?id=GTM-NVFPDWB\"\\n\\t        height=\"0\" width=\"0\" style=\"display:none;visibility:hidden\"></iframe>\\n</noscript>\\n<!-- End Google Tag Manager (noscript) -->\\n<header role=\"banner\" class=\"navbar navbar-fixed-top navbar-static\">\\n\\t<div class=\"container\">\\n\\n\\t\\t<div class=\"navbar-header\">\\n\\n\\t\\t\\t<a data-toggle=\"collapse-side\" data-target=\".side-collapse\" data-target-2=\".side-collapse-container\">\\n\\t\\t\\t\\t<button type=\"button\" class=\"navbar-toggle pull-right collapsed\" data-toggle=\"collapse\"\\n\\t\\t\\t\\t        data-target=\"#navbar\" data-target-2=\".side-collapse-container\" data-target-3=\".side-collapse\"\\n\\t\\t\\t\\t        aria-expanded=\"false\" aria-controls=\"navbar\">\\n\\n\\t\\t\\t\\t\\t<span class=\"sr-only\">Toggle navigation</span>\\n\\t\\t\\t\\t\\t<span class=\"icon-bar top-bar\"></span>\\n\\t\\t\\t\\t\\t<span class=\"icon-bar middle-bar\"></span>\\n\\t\\t\\t\\t\\t<span class=\"icon-bar bottom-bar\"></span>\\n\\n\\t\\t\\t\\t</button>\\n\\t\\t\\t</a>\\n\\t\\t\\t<div class=\"navbar-brand\">\\n\\t\\t\\t\\t<a href=\"/\"><img src=\"/img/logo_white.svg\" alt=\"Web Scraper\"></a>\\n\\t\\t\\t</div>\\n\\t\\t</div>\\n\\n\\t\\t<div class=\"side-collapse in\">\\n\\t\\t\\t<nav id=\"navbar\" role=\"navigation\" class=\"navbar-collapse collapse\">\\n\\t\\t\\t\\t<ul class=\"nav navbar-nav navbar-right\">\\n\\t\\t\\t\\t\\t<li class=\"hidden\">\\n\\t\\t\\t\\t\\t\\t<a href=\"#page-top\"></a>\\n\\t\\t\\t\\t\\t</li>\\n\\t\\t\\t\\t\\t\\n\\t\\t\\t\\t\\t\\n\\t\\t\\t\\t\\t\\n\\t\\t\\t\\t\\t\\n\\t\\t\\t\\t\\t\\n\\t\\t\\t\\t\\t\\n\\t\\t\\t\\t\\t\\n\\t\\t\\t\\t\\t<li>\\n\\t\\t\\t\\t\\t\\t<a href=\"/\" class=\"menuitm\">\\n\\t\\t\\t\\t\\t\\t\\t<p>Web Scraper</p>\\n\\t\\t\\t\\t\\t\\t\\t<div class=\"crta\"></div>\\n\\t\\t\\t\\t\\t\\t</a>\\n\\t\\t\\t\\t\\t</li>\\n\\t\\t\\t\\t\\t<li>\\n\\t\\t\\t\\t\\t\\t<a href=\"/cloud-scraper\" class=\"menuitm\">\\n\\t\\t\\t\\t\\t\\t\\t<p>Cloud Scraper</p>\\n\\t\\t\\t\\t\\t\\t\\t<div class=\"crta\"></div>\\n\\t\\t\\t\\t\\t\\t</a>\\n\\t\\t\\t\\t\\t</li>\\n\\t\\t\\t\\t\\t<li>\\n\\t\\t\\t\\t\\t\\t<a href=\"/pricing\" class=\"menuitm\">\\n\\t\\t\\t\\t\\t\\t\\t<p>Pricing</p>\\n\\t\\t\\t\\t\\t\\t\\t<div class=\"crta\"></div>\\n\\t\\t\\t\\t\\t\\t</a>\\n\\t\\t\\t\\t\\t</li>\\n\\t\\t\\t\\t\\t\\n\\t\\t\\t\\t\\t\\n\\t\\t\\t\\t\\t\\n\\t\\t\\t\\t\\t\\n\\t\\t\\t\\t\\t\\n\\t\\t\\t\\t\\t\\n\\t\\t\\t\\t\\t\\n\\t\\t\\t\\t\\t\\n\\t\\t\\t\\t\\t\\n\\t\\t\\t\\t\\t\\n\\t\\t\\t\\t\\t<li class=\"dropdown\">\\n\\t\\t\\t\\t\\t\\t<a href=\"#section3\" class=\"menuitm dropdown-toggle\" data-toggle=\"dropdown\">\\n\\t\\t\\t\\t\\t\\t\\t<p>Learn</p>\\n\\t\\t\\t\\t\\t\\t\\t<div class=\"crta\"></div>\\n\\t\\t\\t\\t\\t\\t</a>\\n\\t\\t\\t\\t\\t\\t<ul class=\"dropdown-menu\">\\n\\t\\t\\t\\t\\t\\t\\t<li>\\n\\t\\t\\t\\t\\t\\t\\t\\t<a href=\"/documentation\">Documentation</a>\\n\\t\\t\\t\\t\\t\\t\\t</li>\\n\\t\\t\\t\\t\\t\\t\\t<li>\\n\\t\\t\\t\\t\\t\\t\\t\\t<a href=\"/tutorials\">Video Tutorials</a>\\n\\t\\t\\t\\t\\t\\t\\t</li>\\n\\t\\t\\t\\t\\t\\t\\t<li>\\n\\t\\t\\t\\t\\t\\t\\t\\t<a href=\"/how-to-videos\">How to</a>\\n\\t\\t\\t\\t\\t\\t\\t</li>\\n\\t\\t\\t\\t\\t\\t\\t<li>\\n\\t\\t\\t\\t\\t\\t\\t\\t<a href=\"/test-sites\">Test Sites</a>\\n\\t\\t\\t\\t\\t\\t\\t</li>\\n\\t\\t\\t\\t\\t\\t\\t<li>\\n\\t\\t\\t\\t\\t\\t\\t\\t<a href=\"https://forum.webscraper.io/\" target=\"_blank\" rel=\"noopener\">Forum</a>\\n\\t\\t\\t\\t\\t\\t\\t</li>\\n\\t\\t\\t\\t\\t\\t</ul>\\n\\t\\t\\t\\t\\t</li>\\n\\t\\t\\t\\t\\t<li>\\n\\t\\t\\t\\t\\t\\t<a target=\"_blank\" href=\"https://chrome.google.com/webstore/detail/web-scraper/jnhgnonknehpejjnehehllkliplmbmhn?hl=en\" class=\"btn-menu1 install-extension\" rel=\"noopener\">Install</a>\\n\\t\\t\\t\\t\\t</li>\\n\\t\\t\\t\\t\\t<li>\\n\\t\\t\\t\\t\\t\\t<a href=\"https://cloud.webscraper.io/\" class=\"btn-menu2\">Login</a>\\n\\t\\t\\t\\t\\t</li>\\n\\t\\t\\t\\t</ul>\\n\\t\\t\\t</nav>\\n\\t\\t</div>\\n\\t</div>\\n</header>\\n\\n<div class=\"wrapper\">\\n\\t\\t<div class=\"formenu-here container-fluid\">\\n\\n\\t</div>\\n\\t<div class=\"container-fluid blog-hero\">\\n\\t\\t<div class=\"container\">\\n\\t\\t\\t<div class=\"row\">\\n\\t\\t\\t\\t<div class=\"col-md-12\">\\n\\t\\t\\t\\t\\t<h1>Test Sites</h1>\\n\\t\\t\\t\\t</div>\\n\\t\\t\\t</div>\\n\\t\\t</div>\\n\\t</div>\\n\\n\\t<div class=\"container test-site\">\\n\\t\\t<div class=\"row\">\\n\\t\\t\\t<div class=\"col-md-3 sidebar\">\\n\\t\\t\\t\\t\\t<div class=\"navbar-default sidebar\" role=\"navigation\">\\n\\t<div class=\"sidebar-nav navbar-collapse\">\\n\\t\\t<ul class=\"nav\" id=\"side-menu\">\\n\\n\\t\\t\\t<li  class=\"active\" >\\n\\t\\t\\t\\t<a href=\"/test-sites/e-commerce/allinone\">Home</a>\\n\\t\\t\\t</li>\\n\\n\\t\\t\\t\\t\\t\\t<li >\\n\\t\\t\\t\\t<a href=\"/test-sites/e-commerce/allinone/computers\" class=\"category-link \">\\n\\t\\t\\t\\t\\tComputers\\n\\t\\t\\t\\t\\t<span class=\"fa arrow\"></span>\\n\\t\\t\\t\\t</a>\\n\\n\\t\\t\\t\\t\\t\\t\\t</li>\\n\\t\\t\\t\\t\\t\\t<li >\\n\\t\\t\\t\\t<a href=\"/test-sites/e-commerce/allinone/phones\" class=\"category-link \">\\n\\t\\t\\t\\t\\tPhones\\n\\t\\t\\t\\t\\t<span class=\"fa arrow\"></span>\\n\\t\\t\\t\\t</a>\\n\\n\\t\\t\\t\\t\\t\\t\\t</li>\\n\\t\\t\\t\\t\\t</ul>\\n\\t</div>\\n</div>\\n\\n\\t\\t\\t</div>\\n\\t\\t\\t<div class=\"col-md-9\">\\n\\t\\t\\t\\t\\n\\t<div class=\"jumbotron\">\\n\\t\\t<h1>E-commerce training site</h1>\\n\\t\\t<p>\\n\\t\\t\\tWelcome to WebScraper e-commerce site. You can use this site for training\\n\\t\\t\\tto learn how to use the Web Scraper. Items listed here are not for sale.\\n\\t\\t</p>\\n\\t</div>\\n\\n\\t<h2>Top items being scraped right now</h2>\\n\\n\\t<div class=\"row\">\\n\\t\\t\\t<div class=\"col-sm-4 col-lg-4 col-md-4\">\\n\\t<div class=\"thumbnail\">\\n\\t\\t<img class=\"img-responsive\" alt=\"item\"\\n\\t\\t     src=\"/images/test-sites/e-commerce/items/cart2.png\">\\n\\t\\t<div class=\"caption\">\\n\\t\\t\\t<h4 class=\"pull-right price\">$1099.00</h4>\\n\\t\\t\\t<h4>\\n\\t\\t\\t\\t\\t\\t\\t\\t\\t<a href=\"/test-sites/e-commerce/allinone/product/582\" class=\"title\" title=\"MSI GL72M 7RDX\">MSI GL72M 7RDX</a>\\n\\t\\t\\t\\t\\t\\t\\t</h4>\\n\\t\\t\\t<p class=\"description\">Asus ROG Strix GL553VD-DM535T, 15.6&quot; FHD, Core i7-7700HQ, 8GB, 1TB + 128GB SSD, GeForce GTX 1050 2GB, Windows 10 Home, Eng kbd</p>\\n\\n\\t\\t</div>\\n\\t\\t<div class=\"ratings\">\\n\\t\\t\\t<p class=\"pull-right\">9 reviews</p>\\n\\t\\t\\t<p data-rating=\"1\">\\n\\t\\t\\t\\t\\t\\t\\t\\t<span class=\"glyphicon glyphicon-star\"></span>\\n\\t\\t\\t\\t\\t\\t\\t</p>\\n\\t\\t</div>\\n\\t</div>\\n</div>\\n\\t\\t\\t<div class=\"col-sm-4 col-lg-4 col-md-4\">\\n\\t<div class=\"thumbnail\">\\n\\t\\t<img class=\"img-responsive\" alt=\"item\"\\n\\t\\t     src=\"/images/test-sites/e-commerce/items/cart2.png\">\\n\\t\\t<div class=\"caption\">\\n\\t\\t\\t<h4 class=\"pull-right price\">$1149.00</h4>\\n\\t\\t\\t<h4>\\n\\t\\t\\t\\t\\t\\t\\t\\t\\t<a href=\"/test-sites/e-commerce/allinone/product/540\" class=\"title\" title=\"Lenovo Legion Y520-15IKBM\">Lenovo Legion Y5...</a>\\n\\t\\t\\t\\t\\t\\t\\t</h4>\\n\\t\\t\\t<p class=\"description\">Lenovo Legion Y520-15IKBM, 15.6&quot; FHD IPS, Core i7-7700HQ, 8GB, 128GB SSD + 1TB, GeForce GTX 1060 Max-Q 6GB, DOS</p>\\n\\n\\t\\t</div>\\n\\t\\t<div class=\"ratings\">\\n\\t\\t\\t<p class=\"pull-right\">11 reviews</p>\\n\\t\\t\\t<p data-rating=\"3\">\\n\\t\\t\\t\\t\\t\\t\\t\\t<span class=\"glyphicon glyphicon-star\"></span>\\n\\t\\t\\t\\t\\t\\t\\t\\t<span class=\"glyphicon glyphicon-star\"></span>\\n\\t\\t\\t\\t\\t\\t\\t\\t<span class=\"glyphicon glyphicon-star\"></span>\\n\\t\\t\\t\\t\\t\\t\\t</p>\\n\\t\\t</div>\\n\\t</div>\\n</div>\\n\\t\\t\\t<div class=\"col-sm-4 col-lg-4 col-md-4\">\\n\\t<div class=\"thumbnail\">\\n\\t\\t<img class=\"img-responsive\" alt=\"item\"\\n\\t\\t     src=\"/images/test-sites/e-commerce/items/cart2.png\">\\n\\t\\t<div class=\"caption\">\\n\\t\\t\\t<h4 class=\"pull-right price\">$295.99</h4>\\n\\t\\t\\t<h4>\\n\\t\\t\\t\\t\\t\\t\\t\\t\\t<a href=\"/test-sites/e-commerce/allinone/product/545\" class=\"title\" title=\"Asus VivoBook X441NA-GA190\">Asus VivoBook X4...</a>\\n\\t\\t\\t\\t\\t\\t\\t</h4>\\n\\t\\t\\t<p class=\"description\">Asus VivoBook X441NA-GA190 Chocolate Black, 14&quot;, Celeron N3450, 4GB, 128GB SSD, Endless OS, ENG kbd</p>\\n\\n\\t\\t</div>\\n\\t\\t<div class=\"ratings\">\\n\\t\\t\\t<p class=\"pull-right\">14 reviews</p>\\n\\t\\t\\t<p data-rating=\"3\">\\n\\t\\t\\t\\t\\t\\t\\t\\t<span class=\"glyphicon glyphicon-star\"></span>\\n\\t\\t\\t\\t\\t\\t\\t\\t<span class=\"glyphicon glyphicon-star\"></span>\\n\\t\\t\\t\\t\\t\\t\\t\\t<span class=\"glyphicon glyphicon-star\"></span>\\n\\t\\t\\t\\t\\t\\t\\t</p>\\n\\t\\t</div>\\n\\t</div>\\n</div>\\n\\t</div>\\n\\n\\n\\t\\t\\t</div>\\n\\t\\t</div>\\n\\t</div>\\n\\t<div class=\"clearfix\"></div>\\n\\t<div class=\"push\"></div>\\n</div>\\n\\n<div class=\"container-fluid footer\" id=\"layout-footer\">\\n\\t<div class=\"container\">\\n\\t\\t<div class=\"row\">\\n\\t\\t\\t<div class=\"col-md-3\">\\n\\t\\t\\t\\t<ul>\\n\\t\\t\\t\\t\\t<li><p>Products</p></li>\\n\\t\\t\\t\\t\\t<li>\\n\\t\\t\\t\\t\\t\\t<a href=\"/\">Web Scraper browser extension</a>\\n\\t\\t\\t\\t\\t</li>\\n\\t\\t\\t\\t\\t<li>\\n\\t\\t\\t\\t\\t\\t<a href=\"/pricing\">Web Scraper Cloud</a>\\n\\t\\t\\t\\t\\t</li>\\n\\t\\t\\t\\t\\t\\t\\t\\t\\t\\t\\n\\t\\t\\t\\t\\t\\n\\t\\t\\t\\t</ul>\\n\\t\\t\\t</div>\\n\\t\\t\\t<div class=\"col-md-3\">\\n\\t\\t\\t\\t<ul>\\n\\t\\t\\t\\t\\t<li><p>Company</p></li>\\n\\t\\t\\t\\t\\t\\n\\t\\t\\t\\t\\t<li><a href=\"/contact\">Contact</a>\\n\\t\\t\\t\\t\\t</li>\\n\\t\\t\\t\\t\\t\\n\\t\\t\\t\\t\\t<li>\\n\\t\\t\\t\\t\\t\\t<a href=\"/privacy-policy\">Website Privacy Policy</a>\\n\\t\\t\\t\\t\\t</li>\\n\\t\\t\\t\\t\\t<li>\\n\\t\\t\\t\\t\\t\\t<a href=\"/extension-privacy-policy\">Browser Extension Privacy Policy</a>\\n\\t\\t\\t\\t\\t</li>\\n\\t\\t\\t\\t\\t<li>\\n\\t\\t\\t\\t\\t\\t<a href=\"http://webscraperio.us-east-1.elasticbeanstalk.com/downloads/Web_Scraper_Media_Kit.zip\">Media kit</a>\\n\\t\\t\\t\\t\\t</li>\\n\\t\\t\\t\\t\\t\\n\\t\\t\\t\\t\\t<li><a href=\"/jobs\">Jobs</a></li>\\n\\t\\t\\t\\t</ul>\\n\\t\\t\\t</div>\\n\\t\\t\\t<div class=\"col-md-3\">\\n\\t\\t\\t\\t<ul>\\n\\t\\t\\t\\t\\t<li><p>Resources</p></li>\\n\\t\\t\\t\\t\\t<li><a href=\"/blog\">Blog</a></li>\\n\\t\\t\\t\\t\\t<li>\\n\\t\\t\\t\\t\\t\\t<a href=\"/documentation\">Documentation</a>\\n\\t\\t\\t\\t\\t</li>\\n\\t\\t\\t\\t\\t<li>\\n\\t\\t\\t\\t\\t\\t<a href=\"/tutorials\">Video Tutorials</a>\\n\\t\\t\\t\\t\\t</li>\\n\\t\\t\\t\\t\\t<li>\\n\\t\\t\\t\\t\\t\\t<a href=\"/screenshots\">Screenshots</a>\\n\\t\\t\\t\\t\\t</li>\\n\\t\\t\\t\\t\\t<li>\\n\\t\\t\\t\\t\\t\\t<a href=\"/test-sites\">Test Sites</a>\\n\\t\\t\\t\\t\\t</li>\\n\\t\\t\\t\\t\\t<li>\\n\\t\\t\\t\\t\\t\\t<a target=\"_blank\" href=\"https://forum.webscraper.io/\" rel=\"noopener\">Forum</a>\\n\\t\\t\\t\\t\\t</li>\\n\\t\\t\\t\\t</ul>\\n\\t\\t\\t</div>\\n\\t\\t\\t<div class=\"col-md-3\">\\n\\t\\t\\t\\t<ul>\\n\\t\\t\\t\\t\\t<li><p>CONTACT US</p></li>\\n\\t\\t\\t\\t\\t<li>\\n\\t\\t\\t\\t\\t\\t<a href=\"mailto:info@webscraper.io\">info@webscraper.io</a>\\n\\t\\t\\t\\t\\t</li>\\n\\t\\t\\t\\t\\t\\n\\t\\t\\t\\t\\t<li>Rupniecibas iela 30,<br> Riga, Latvia, LV-1045</li>\\n\\t\\t\\t\\t</ul>\\n\\t\\t\\t\\t<ul class=\"smedia\">\\n\\t\\t\\t\\t\\t<li>\\n\\t\\t\\t\\t\\t\\t<a href=\"https://www.facebook.com/webscraperio/\" target=\"_blank\" rel=\"noopener\"><img src=\"/img/fbicon.png\" alt=\"Web Scraper on Facebook\"></a>\\n\\t\\t\\t\\t\\t</li>\\n\\t\\t\\t\\t\\t<li>\\n\\t\\t\\t\\t\\t\\t<a href=\"https://twitter.com/webscraperio\" target=\"_blank\" rel=\"noopener\"><img src=\"/img/twicon.png\" alt=\"Web Scraper on Twitter\"></a>\\n\\t\\t\\t\\t\\t</li>\\n\\t\\t\\t\\t\\t\\n\\n\\t\\t\\t\\t</ul>\\n\\t\\t\\t</div>\\n\\t\\t</div>\\n\\t\\t<div class=\"row\">\\n\\t\\t\\t<div class=\"col-md-12\">\\n\\t\\t\\t\\t<p class=\"copyright\">Copyright &copy 2022\\n\\t\\t\\t\\t\\t<a href=\"#\">Web Scraper</a> | All rights\\n\\t\\t\\t\\t\\treserved | Made by zoom59</p>\\n\\t\\t\\t</div>\\n\\t\\t</div>\\n\\t</div>\\n</div>\\n\\n\\n</body>\\n</html>\\n'"
      ]
     },
     "execution_count": 8,
     "metadata": {},
     "output_type": "execute_result"
    }
   ],
   "source": [
    "page.text"
   ]
  },
  {
   "cell_type": "code",
   "execution_count": 9,
   "id": "db79a4fe",
   "metadata": {},
   "outputs": [],
   "source": [
    "soup=BeautifulSoup(page.text,'lxml')"
   ]
  },
  {
   "cell_type": "code",
   "execution_count": 10,
   "id": "6c7ea86d",
   "metadata": {},
   "outputs": [
    {
     "data": {
      "text/plain": [
       "<!DOCTYPE html>\n",
       "<html lang=\"en\">\n",
       "<head>\n",
       "<!-- Anti-flicker snippet (recommended)  -->\n",
       "<style>.async-hide {\n",
       "\t\topacity: 0 !important\n",
       "\t} </style>\n",
       "<script>(function (a, s, y, n, c, h, i, d, e) {\n",
       "\t\ts.className += ' ' + y;\n",
       "\t\th.start = 1 * new Date;\n",
       "\t\th.end = i = function () {\n",
       "\t\t\ts.className = s.className.replace(RegExp(' ?' + y), '')\n",
       "\t\t};\n",
       "\t\t(a[n] = a[n] || []).hide = h;\n",
       "\t\tsetTimeout(function () {\n",
       "\t\t\ti();\n",
       "\t\t\th.end = null\n",
       "\t\t}, c);\n",
       "\t\th.timeout = c;\n",
       "\t})(window, document.documentElement, 'async-hide', 'dataLayer', 4000,\n",
       "\t\t{'GTM-NVFPDWB': true});</script>\n",
       "<!-- Google Tag Manager -->\n",
       "<script>(function (w, d, s, l, i) {\n",
       "\t\tw[l] = w[l] || [];\n",
       "\t\tw[l].push({\n",
       "\t\t\t'gtm.start':\n",
       "\t\t\t\tnew Date().getTime(), event: 'gtm.js'\n",
       "\t\t});\n",
       "\t\tvar f = d.getElementsByTagName(s)[0],\n",
       "\t\t\tj = d.createElement(s), dl = l != 'dataLayer' ? '&l=' + l : '';\n",
       "\t\tj.async = true;\n",
       "\t\tj.src =\n",
       "\t\t\t'https://www.googletagmanager.com/gtm.js?id=' + i + dl;\n",
       "\t\tf.parentNode.insertBefore(j, f);\n",
       "\t})(window, document, 'script', 'dataLayer', 'GTM-NVFPDWB');</script>\n",
       "<!-- End Google Tag Manager -->\n",
       "<title>Web Scraper Test Sites</title>\n",
       "<meta charset=\"utf-8\"/>\n",
       "<meta content=\"IE=edge,chrome=1\" http-equiv=\"X-UA-Compatible\"/>\n",
       "<meta content=\"web scraping,Web Scraper,Chrome extension,Crawling,Cross platform scraper\" name=\"keywords\"/>\n",
       "<meta content=\"The most popular web scraping extension. Start scraping in minutes. Automate your tasks with our Cloud Scraper. No software to download, no coding needed.\" name=\"description\"/>\n",
       "<link href=\"/favicon.png\" rel=\"icon\" sizes=\"128x128\"/>\n",
       "<meta content=\"width=device-width, initial-scale=1.0\" name=\"viewport\"/>\n",
       "<link href=\"/css/app.css?id=e30a09b05325a08d79dd\" rel=\"stylesheet\"/>\n",
       "<link href=\"https://webscraper.io/test-sites/e-commerce/allinone\" rel=\"canonical\"/>\n",
       "<link href=\"/img/logo-icon.png\" rel=\"apple-touch-icon\"/>\n",
       "<script defer=\"\" src=\"/js/app.js?id=1c1cafc4a642f71eb469\"></script>\n",
       "</head>\n",
       "<body>\n",
       "<!-- Google Tag Manager (noscript) -->\n",
       "<noscript>\n",
       "<iframe height=\"0\" src=\"https://www.googletagmanager.com/ns.html?id=GTM-NVFPDWB\" style=\"display:none;visibility:hidden\" width=\"0\"></iframe>\n",
       "</noscript>\n",
       "<!-- End Google Tag Manager (noscript) -->\n",
       "<header class=\"navbar navbar-fixed-top navbar-static\" role=\"banner\">\n",
       "<div class=\"container\">\n",
       "<div class=\"navbar-header\">\n",
       "<a data-target=\".side-collapse\" data-target-2=\".side-collapse-container\" data-toggle=\"collapse-side\">\n",
       "<button aria-controls=\"navbar\" aria-expanded=\"false\" class=\"navbar-toggle pull-right collapsed\" data-target=\"#navbar\" data-target-2=\".side-collapse-container\" data-target-3=\".side-collapse\" data-toggle=\"collapse\" type=\"button\">\n",
       "<span class=\"sr-only\">Toggle navigation</span>\n",
       "<span class=\"icon-bar top-bar\"></span>\n",
       "<span class=\"icon-bar middle-bar\"></span>\n",
       "<span class=\"icon-bar bottom-bar\"></span>\n",
       "</button>\n",
       "</a>\n",
       "<div class=\"navbar-brand\">\n",
       "<a href=\"/\"><img alt=\"Web Scraper\" src=\"/img/logo_white.svg\"/></a>\n",
       "</div>\n",
       "</div>\n",
       "<div class=\"side-collapse in\">\n",
       "<nav class=\"navbar-collapse collapse\" id=\"navbar\" role=\"navigation\">\n",
       "<ul class=\"nav navbar-nav navbar-right\">\n",
       "<li class=\"hidden\">\n",
       "<a href=\"#page-top\"></a>\n",
       "</li>\n",
       "<li>\n",
       "<a class=\"menuitm\" href=\"/\">\n",
       "<p>Web Scraper</p>\n",
       "<div class=\"crta\"></div>\n",
       "</a>\n",
       "</li>\n",
       "<li>\n",
       "<a class=\"menuitm\" href=\"/cloud-scraper\">\n",
       "<p>Cloud Scraper</p>\n",
       "<div class=\"crta\"></div>\n",
       "</a>\n",
       "</li>\n",
       "<li>\n",
       "<a class=\"menuitm\" href=\"/pricing\">\n",
       "<p>Pricing</p>\n",
       "<div class=\"crta\"></div>\n",
       "</a>\n",
       "</li>\n",
       "<li class=\"dropdown\">\n",
       "<a class=\"menuitm dropdown-toggle\" data-toggle=\"dropdown\" href=\"#section3\">\n",
       "<p>Learn</p>\n",
       "<div class=\"crta\"></div>\n",
       "</a>\n",
       "<ul class=\"dropdown-menu\">\n",
       "<li>\n",
       "<a href=\"/documentation\">Documentation</a>\n",
       "</li>\n",
       "<li>\n",
       "<a href=\"/tutorials\">Video Tutorials</a>\n",
       "</li>\n",
       "<li>\n",
       "<a href=\"/how-to-videos\">How to</a>\n",
       "</li>\n",
       "<li>\n",
       "<a href=\"/test-sites\">Test Sites</a>\n",
       "</li>\n",
       "<li>\n",
       "<a href=\"https://forum.webscraper.io/\" rel=\"noopener\" target=\"_blank\">Forum</a>\n",
       "</li>\n",
       "</ul>\n",
       "</li>\n",
       "<li>\n",
       "<a class=\"btn-menu1 install-extension\" href=\"https://chrome.google.com/webstore/detail/web-scraper/jnhgnonknehpejjnehehllkliplmbmhn?hl=en\" rel=\"noopener\" target=\"_blank\">Install</a>\n",
       "</li>\n",
       "<li>\n",
       "<a class=\"btn-menu2\" href=\"https://cloud.webscraper.io/\">Login</a>\n",
       "</li>\n",
       "</ul>\n",
       "</nav>\n",
       "</div>\n",
       "</div>\n",
       "</header>\n",
       "<div class=\"wrapper\">\n",
       "<div class=\"formenu-here container-fluid\">\n",
       "</div>\n",
       "<div class=\"container-fluid blog-hero\">\n",
       "<div class=\"container\">\n",
       "<div class=\"row\">\n",
       "<div class=\"col-md-12\">\n",
       "<h1>Test Sites</h1>\n",
       "</div>\n",
       "</div>\n",
       "</div>\n",
       "</div>\n",
       "<div class=\"container test-site\">\n",
       "<div class=\"row\">\n",
       "<div class=\"col-md-3 sidebar\">\n",
       "<div class=\"navbar-default sidebar\" role=\"navigation\">\n",
       "<div class=\"sidebar-nav navbar-collapse\">\n",
       "<ul class=\"nav\" id=\"side-menu\">\n",
       "<li class=\"active\">\n",
       "<a href=\"/test-sites/e-commerce/allinone\">Home</a>\n",
       "</li>\n",
       "<li>\n",
       "<a class=\"category-link\" href=\"/test-sites/e-commerce/allinone/computers\">\n",
       "\t\t\t\t\tComputers\n",
       "\t\t\t\t\t<span class=\"fa arrow\"></span>\n",
       "</a>\n",
       "</li>\n",
       "<li>\n",
       "<a class=\"category-link\" href=\"/test-sites/e-commerce/allinone/phones\">\n",
       "\t\t\t\t\tPhones\n",
       "\t\t\t\t\t<span class=\"fa arrow\"></span>\n",
       "</a>\n",
       "</li>\n",
       "</ul>\n",
       "</div>\n",
       "</div>\n",
       "</div>\n",
       "<div class=\"col-md-9\">\n",
       "<div class=\"jumbotron\">\n",
       "<h1>E-commerce training site</h1>\n",
       "<p>\n",
       "\t\t\tWelcome to WebScraper e-commerce site. You can use this site for training\n",
       "\t\t\tto learn how to use the Web Scraper. Items listed here are not for sale.\n",
       "\t\t</p>\n",
       "</div>\n",
       "<h2>Top items being scraped right now</h2>\n",
       "<div class=\"row\">\n",
       "<div class=\"col-sm-4 col-lg-4 col-md-4\">\n",
       "<div class=\"thumbnail\">\n",
       "<img alt=\"item\" class=\"img-responsive\" src=\"/images/test-sites/e-commerce/items/cart2.png\"/>\n",
       "<div class=\"caption\">\n",
       "<h4 class=\"pull-right price\">$1099.00</h4>\n",
       "<h4>\n",
       "<a class=\"title\" href=\"/test-sites/e-commerce/allinone/product/582\" title=\"MSI GL72M 7RDX\">MSI GL72M 7RDX</a>\n",
       "</h4>\n",
       "<p class=\"description\">Asus ROG Strix GL553VD-DM535T, 15.6\" FHD, Core i7-7700HQ, 8GB, 1TB + 128GB SSD, GeForce GTX 1050 2GB, Windows 10 Home, Eng kbd</p>\n",
       "</div>\n",
       "<div class=\"ratings\">\n",
       "<p class=\"pull-right\">9 reviews</p>\n",
       "<p data-rating=\"1\">\n",
       "<span class=\"glyphicon glyphicon-star\"></span>\n",
       "</p>\n",
       "</div>\n",
       "</div>\n",
       "</div>\n",
       "<div class=\"col-sm-4 col-lg-4 col-md-4\">\n",
       "<div class=\"thumbnail\">\n",
       "<img alt=\"item\" class=\"img-responsive\" src=\"/images/test-sites/e-commerce/items/cart2.png\"/>\n",
       "<div class=\"caption\">\n",
       "<h4 class=\"pull-right price\">$1149.00</h4>\n",
       "<h4>\n",
       "<a class=\"title\" href=\"/test-sites/e-commerce/allinone/product/540\" title=\"Lenovo Legion Y520-15IKBM\">Lenovo Legion Y5...</a>\n",
       "</h4>\n",
       "<p class=\"description\">Lenovo Legion Y520-15IKBM, 15.6\" FHD IPS, Core i7-7700HQ, 8GB, 128GB SSD + 1TB, GeForce GTX 1060 Max-Q 6GB, DOS</p>\n",
       "</div>\n",
       "<div class=\"ratings\">\n",
       "<p class=\"pull-right\">11 reviews</p>\n",
       "<p data-rating=\"3\">\n",
       "<span class=\"glyphicon glyphicon-star\"></span>\n",
       "<span class=\"glyphicon glyphicon-star\"></span>\n",
       "<span class=\"glyphicon glyphicon-star\"></span>\n",
       "</p>\n",
       "</div>\n",
       "</div>\n",
       "</div>\n",
       "<div class=\"col-sm-4 col-lg-4 col-md-4\">\n",
       "<div class=\"thumbnail\">\n",
       "<img alt=\"item\" class=\"img-responsive\" src=\"/images/test-sites/e-commerce/items/cart2.png\"/>\n",
       "<div class=\"caption\">\n",
       "<h4 class=\"pull-right price\">$295.99</h4>\n",
       "<h4>\n",
       "<a class=\"title\" href=\"/test-sites/e-commerce/allinone/product/545\" title=\"Asus VivoBook X441NA-GA190\">Asus VivoBook X4...</a>\n",
       "</h4>\n",
       "<p class=\"description\">Asus VivoBook X441NA-GA190 Chocolate Black, 14\", Celeron N3450, 4GB, 128GB SSD, Endless OS, ENG kbd</p>\n",
       "</div>\n",
       "<div class=\"ratings\">\n",
       "<p class=\"pull-right\">14 reviews</p>\n",
       "<p data-rating=\"3\">\n",
       "<span class=\"glyphicon glyphicon-star\"></span>\n",
       "<span class=\"glyphicon glyphicon-star\"></span>\n",
       "<span class=\"glyphicon glyphicon-star\"></span>\n",
       "</p>\n",
       "</div>\n",
       "</div>\n",
       "</div>\n",
       "</div>\n",
       "</div>\n",
       "</div>\n",
       "</div>\n",
       "<div class=\"clearfix\"></div>\n",
       "<div class=\"push\"></div>\n",
       "</div>\n",
       "<div class=\"container-fluid footer\" id=\"layout-footer\">\n",
       "<div class=\"container\">\n",
       "<div class=\"row\">\n",
       "<div class=\"col-md-3\">\n",
       "<ul>\n",
       "<li><p>Products</p></li>\n",
       "<li>\n",
       "<a href=\"/\">Web Scraper browser extension</a>\n",
       "</li>\n",
       "<li>\n",
       "<a href=\"/pricing\">Web Scraper Cloud</a>\n",
       "</li>\n",
       "</ul>\n",
       "</div>\n",
       "<div class=\"col-md-3\">\n",
       "<ul>\n",
       "<li><p>Company</p></li>\n",
       "<li><a href=\"/contact\">Contact</a>\n",
       "</li>\n",
       "<li>\n",
       "<a href=\"/privacy-policy\">Website Privacy Policy</a>\n",
       "</li>\n",
       "<li>\n",
       "<a href=\"/extension-privacy-policy\">Browser Extension Privacy Policy</a>\n",
       "</li>\n",
       "<li>\n",
       "<a href=\"http://webscraperio.us-east-1.elasticbeanstalk.com/downloads/Web_Scraper_Media_Kit.zip\">Media kit</a>\n",
       "</li>\n",
       "<li><a href=\"/jobs\">Jobs</a></li>\n",
       "</ul>\n",
       "</div>\n",
       "<div class=\"col-md-3\">\n",
       "<ul>\n",
       "<li><p>Resources</p></li>\n",
       "<li><a href=\"/blog\">Blog</a></li>\n",
       "<li>\n",
       "<a href=\"/documentation\">Documentation</a>\n",
       "</li>\n",
       "<li>\n",
       "<a href=\"/tutorials\">Video Tutorials</a>\n",
       "</li>\n",
       "<li>\n",
       "<a href=\"/screenshots\">Screenshots</a>\n",
       "</li>\n",
       "<li>\n",
       "<a href=\"/test-sites\">Test Sites</a>\n",
       "</li>\n",
       "<li>\n",
       "<a href=\"https://forum.webscraper.io/\" rel=\"noopener\" target=\"_blank\">Forum</a>\n",
       "</li>\n",
       "</ul>\n",
       "</div>\n",
       "<div class=\"col-md-3\">\n",
       "<ul>\n",
       "<li><p>CONTACT US</p></li>\n",
       "<li>\n",
       "<a href=\"mailto:info@webscraper.io\">info@webscraper.io</a>\n",
       "</li>\n",
       "<li>Rupniecibas iela 30,<br/> Riga, Latvia, LV-1045</li>\n",
       "</ul>\n",
       "<ul class=\"smedia\">\n",
       "<li>\n",
       "<a href=\"https://www.facebook.com/webscraperio/\" rel=\"noopener\" target=\"_blank\"><img alt=\"Web Scraper on Facebook\" src=\"/img/fbicon.png\"/></a>\n",
       "</li>\n",
       "<li>\n",
       "<a href=\"https://twitter.com/webscraperio\" rel=\"noopener\" target=\"_blank\"><img alt=\"Web Scraper on Twitter\" src=\"/img/twicon.png\"/></a>\n",
       "</li>\n",
       "</ul>\n",
       "</div>\n",
       "</div>\n",
       "<div class=\"row\">\n",
       "<div class=\"col-md-12\">\n",
       "<p class=\"copyright\">Copyright &amp;copy 2022\n",
       "\t\t\t\t\t<a href=\"#\">Web Scraper</a> | All rights\n",
       "\t\t\t\t\treserved | Made by zoom59</p>\n",
       "</div>\n",
       "</div>\n",
       "</div>\n",
       "</div>\n",
       "</body>\n",
       "</html>"
      ]
     },
     "execution_count": 10,
     "metadata": {},
     "output_type": "execute_result"
    }
   ],
   "source": [
    "soup"
   ]
  },
  {
   "cell_type": "code",
   "execution_count": 11,
   "id": "f0f9e816",
   "metadata": {},
   "outputs": [
    {
     "data": {
      "text/plain": [
       "<header class=\"navbar navbar-fixed-top navbar-static\" role=\"banner\">\n",
       "<div class=\"container\">\n",
       "<div class=\"navbar-header\">\n",
       "<a data-target=\".side-collapse\" data-target-2=\".side-collapse-container\" data-toggle=\"collapse-side\">\n",
       "<button aria-controls=\"navbar\" aria-expanded=\"false\" class=\"navbar-toggle pull-right collapsed\" data-target=\"#navbar\" data-target-2=\".side-collapse-container\" data-target-3=\".side-collapse\" data-toggle=\"collapse\" type=\"button\">\n",
       "<span class=\"sr-only\">Toggle navigation</span>\n",
       "<span class=\"icon-bar top-bar\"></span>\n",
       "<span class=\"icon-bar middle-bar\"></span>\n",
       "<span class=\"icon-bar bottom-bar\"></span>\n",
       "</button>\n",
       "</a>\n",
       "<div class=\"navbar-brand\">\n",
       "<a href=\"/\"><img alt=\"Web Scraper\" src=\"/img/logo_white.svg\"/></a>\n",
       "</div>\n",
       "</div>\n",
       "<div class=\"side-collapse in\">\n",
       "<nav class=\"navbar-collapse collapse\" id=\"navbar\" role=\"navigation\">\n",
       "<ul class=\"nav navbar-nav navbar-right\">\n",
       "<li class=\"hidden\">\n",
       "<a href=\"#page-top\"></a>\n",
       "</li>\n",
       "<li>\n",
       "<a class=\"menuitm\" href=\"/\">\n",
       "<p>Web Scraper</p>\n",
       "<div class=\"crta\"></div>\n",
       "</a>\n",
       "</li>\n",
       "<li>\n",
       "<a class=\"menuitm\" href=\"/cloud-scraper\">\n",
       "<p>Cloud Scraper</p>\n",
       "<div class=\"crta\"></div>\n",
       "</a>\n",
       "</li>\n",
       "<li>\n",
       "<a class=\"menuitm\" href=\"/pricing\">\n",
       "<p>Pricing</p>\n",
       "<div class=\"crta\"></div>\n",
       "</a>\n",
       "</li>\n",
       "<li class=\"dropdown\">\n",
       "<a class=\"menuitm dropdown-toggle\" data-toggle=\"dropdown\" href=\"#section3\">\n",
       "<p>Learn</p>\n",
       "<div class=\"crta\"></div>\n",
       "</a>\n",
       "<ul class=\"dropdown-menu\">\n",
       "<li>\n",
       "<a href=\"/documentation\">Documentation</a>\n",
       "</li>\n",
       "<li>\n",
       "<a href=\"/tutorials\">Video Tutorials</a>\n",
       "</li>\n",
       "<li>\n",
       "<a href=\"/how-to-videos\">How to</a>\n",
       "</li>\n",
       "<li>\n",
       "<a href=\"/test-sites\">Test Sites</a>\n",
       "</li>\n",
       "<li>\n",
       "<a href=\"https://forum.webscraper.io/\" rel=\"noopener\" target=\"_blank\">Forum</a>\n",
       "</li>\n",
       "</ul>\n",
       "</li>\n",
       "<li>\n",
       "<a class=\"btn-menu1 install-extension\" href=\"https://chrome.google.com/webstore/detail/web-scraper/jnhgnonknehpejjnehehllkliplmbmhn?hl=en\" rel=\"noopener\" target=\"_blank\">Install</a>\n",
       "</li>\n",
       "<li>\n",
       "<a class=\"btn-menu2\" href=\"https://cloud.webscraper.io/\">Login</a>\n",
       "</li>\n",
       "</ul>\n",
       "</nav>\n",
       "</div>\n",
       "</div>\n",
       "</header>"
      ]
     },
     "execution_count": 11,
     "metadata": {},
     "output_type": "execute_result"
    }
   ],
   "source": [
    "soup.header"
   ]
  },
  {
   "cell_type": "code",
   "execution_count": 12,
   "id": "b6664a1a",
   "metadata": {},
   "outputs": [
    {
     "data": {
      "text/plain": [
       "'\\n\\n\\n\\n\\n\\n\\n\\nWeb Scraper Test Sites\\n\\n\\n\\n\\n\\n\\n\\n\\n\\n\\n\\n\\n\\n\\n\\n\\n\\n\\n\\n\\n\\n\\nToggle navigation\\n\\n\\n\\n\\n\\n\\n\\n\\n\\n\\n\\n\\n\\n\\n\\n\\n\\nWeb Scraper\\n\\n\\n\\n\\n\\nCloud Scraper\\n\\n\\n\\n\\n\\nPricing\\n\\n\\n\\n\\n\\nLearn\\n\\n\\n\\n\\nDocumentation\\n\\n\\nVideo Tutorials\\n\\n\\nHow to\\n\\n\\nTest Sites\\n\\n\\nForum\\n\\n\\n\\n\\nInstall\\n\\n\\nLogin\\n\\n\\n\\n\\n\\n\\n\\n\\n\\n\\n\\n\\n\\nTest Sites\\n\\n\\n\\n\\n\\n\\n\\n\\n\\n\\n\\nHome\\n\\n\\n\\n\\t\\t\\t\\t\\tComputers\\n\\t\\t\\t\\t\\t\\n\\n\\n\\n\\n\\t\\t\\t\\t\\tPhones\\n\\t\\t\\t\\t\\t\\n\\n\\n\\n\\n\\n\\n\\n\\nE-commerce training site\\n\\n\\t\\t\\tWelcome to WebScraper e-commerce site. You can use this site for training\\n\\t\\t\\tto learn how to use the Web Scraper. Items listed here are not for sale.\\n\\t\\t\\n\\nTop items being scraped right now\\n\\n\\n\\n\\n\\n$1099.00\\n\\nMSI GL72M 7RDX\\n\\nAsus ROG Strix GL553VD-DM535T, 15.6\" FHD, Core i7-7700HQ, 8GB, 1TB + 128GB SSD, GeForce GTX 1050 2GB, Windows 10 Home, Eng kbd\\n\\n\\n9 reviews\\n\\n\\n\\n\\n\\n\\n\\n\\n\\n\\n$1149.00\\n\\nLenovo Legion Y5...\\n\\nLenovo Legion Y520-15IKBM, 15.6\" FHD IPS, Core i7-7700HQ, 8GB, 128GB SSD + 1TB, GeForce GTX 1060 Max-Q 6GB, DOS\\n\\n\\n11 reviews\\n\\n\\n\\n\\n\\n\\n\\n\\n\\n\\n\\n\\n$295.99\\n\\nAsus VivoBook X4...\\n\\nAsus VivoBook X441NA-GA190 Chocolate Black, 14\", Celeron N3450, 4GB, 128GB SSD, Endless OS, ENG kbd\\n\\n\\n14 reviews\\n\\n\\n\\n\\n\\n\\n\\n\\n\\n\\n\\n\\n\\n\\n\\n\\n\\n\\n\\n\\nProducts\\n\\nWeb Scraper browser extension\\n\\n\\nWeb Scraper Cloud\\n\\n\\n\\n\\n\\nCompany\\nContact\\n\\n\\nWebsite Privacy Policy\\n\\n\\nBrowser Extension Privacy Policy\\n\\n\\nMedia kit\\n\\nJobs\\n\\n\\n\\n\\nResources\\nBlog\\n\\nDocumentation\\n\\n\\nVideo Tutorials\\n\\n\\nScreenshots\\n\\n\\nTest Sites\\n\\n\\nForum\\n\\n\\n\\n\\n\\nCONTACT US\\n\\ninfo@webscraper.io\\n\\nRupniecibas iela 30, Riga, Latvia, LV-1045\\n\\n\\n\\n\\n\\n\\n\\n\\n\\n\\n\\n\\n\\nCopyright &copy 2022\\n\\t\\t\\t\\t\\tWeb Scraper | All rights\\n\\t\\t\\t\\t\\treserved | Made by zoom59\\n\\n\\n\\n\\n\\n\\n'"
      ]
     },
     "execution_count": 12,
     "metadata": {},
     "output_type": "execute_result"
    }
   ],
   "source": [
    "soup.text"
   ]
  },
  {
   "cell_type": "code",
   "execution_count": 13,
   "id": "85f038c8",
   "metadata": {},
   "outputs": [
    {
     "data": {
      "text/plain": [
       "<div class=\"container\">\n",
       "<div class=\"navbar-header\">\n",
       "<a data-target=\".side-collapse\" data-target-2=\".side-collapse-container\" data-toggle=\"collapse-side\">\n",
       "<button aria-controls=\"navbar\" aria-expanded=\"false\" class=\"navbar-toggle pull-right collapsed\" data-target=\"#navbar\" data-target-2=\".side-collapse-container\" data-target-3=\".side-collapse\" data-toggle=\"collapse\" type=\"button\">\n",
       "<span class=\"sr-only\">Toggle navigation</span>\n",
       "<span class=\"icon-bar top-bar\"></span>\n",
       "<span class=\"icon-bar middle-bar\"></span>\n",
       "<span class=\"icon-bar bottom-bar\"></span>\n",
       "</button>\n",
       "</a>\n",
       "<div class=\"navbar-brand\">\n",
       "<a href=\"/\"><img alt=\"Web Scraper\" src=\"/img/logo_white.svg\"/></a>\n",
       "</div>\n",
       "</div>\n",
       "<div class=\"side-collapse in\">\n",
       "<nav class=\"navbar-collapse collapse\" id=\"navbar\" role=\"navigation\">\n",
       "<ul class=\"nav navbar-nav navbar-right\">\n",
       "<li class=\"hidden\">\n",
       "<a href=\"#page-top\"></a>\n",
       "</li>\n",
       "<li>\n",
       "<a class=\"menuitm\" href=\"/\">\n",
       "<p>Web Scraper</p>\n",
       "<div class=\"crta\"></div>\n",
       "</a>\n",
       "</li>\n",
       "<li>\n",
       "<a class=\"menuitm\" href=\"/cloud-scraper\">\n",
       "<p>Cloud Scraper</p>\n",
       "<div class=\"crta\"></div>\n",
       "</a>\n",
       "</li>\n",
       "<li>\n",
       "<a class=\"menuitm\" href=\"/pricing\">\n",
       "<p>Pricing</p>\n",
       "<div class=\"crta\"></div>\n",
       "</a>\n",
       "</li>\n",
       "<li class=\"dropdown\">\n",
       "<a class=\"menuitm dropdown-toggle\" data-toggle=\"dropdown\" href=\"#section3\">\n",
       "<p>Learn</p>\n",
       "<div class=\"crta\"></div>\n",
       "</a>\n",
       "<ul class=\"dropdown-menu\">\n",
       "<li>\n",
       "<a href=\"/documentation\">Documentation</a>\n",
       "</li>\n",
       "<li>\n",
       "<a href=\"/tutorials\">Video Tutorials</a>\n",
       "</li>\n",
       "<li>\n",
       "<a href=\"/how-to-videos\">How to</a>\n",
       "</li>\n",
       "<li>\n",
       "<a href=\"/test-sites\">Test Sites</a>\n",
       "</li>\n",
       "<li>\n",
       "<a href=\"https://forum.webscraper.io/\" rel=\"noopener\" target=\"_blank\">Forum</a>\n",
       "</li>\n",
       "</ul>\n",
       "</li>\n",
       "<li>\n",
       "<a class=\"btn-menu1 install-extension\" href=\"https://chrome.google.com/webstore/detail/web-scraper/jnhgnonknehpejjnehehllkliplmbmhn?hl=en\" rel=\"noopener\" target=\"_blank\">Install</a>\n",
       "</li>\n",
       "<li>\n",
       "<a class=\"btn-menu2\" href=\"https://cloud.webscraper.io/\">Login</a>\n",
       "</li>\n",
       "</ul>\n",
       "</nav>\n",
       "</div>\n",
       "</div>"
      ]
     },
     "execution_count": 13,
     "metadata": {},
     "output_type": "execute_result"
    }
   ],
   "source": [
    "soup.div"
   ]
  },
  {
   "cell_type": "code",
   "execution_count": 16,
   "id": "6fc09707",
   "metadata": {},
   "outputs": [],
   "source": [
    "url2 = 'https://mail.google.com'\n",
    "page2=requests.get(url2)"
   ]
  },
  {
   "cell_type": "code",
   "execution_count": 17,
   "id": "de530cd3",
   "metadata": {},
   "outputs": [
    {
     "data": {
      "text/plain": [
       "<Response [200]>"
      ]
     },
     "execution_count": 17,
     "metadata": {},
     "output_type": "execute_result"
    }
   ],
   "source": [
    "page2"
   ]
  },
  {
   "cell_type": "code",
   "execution_count": 18,
   "id": "66226f04",
   "metadata": {},
   "outputs": [],
   "source": [
    "url3='https://www.webscraper.io/test-sites/e-commerce/allinone/phones/touch'"
   ]
  },
  {
   "cell_type": "code",
   "execution_count": 19,
   "id": "ca96ca2e",
   "metadata": {},
   "outputs": [],
   "source": [
    "page3=requests.get(url3)"
   ]
  },
  {
   "cell_type": "code",
   "execution_count": 20,
   "id": "420aaf51",
   "metadata": {},
   "outputs": [
    {
     "data": {
      "text/plain": [
       "<Response [200]>"
      ]
     },
     "execution_count": 20,
     "metadata": {},
     "output_type": "execute_result"
    }
   ],
   "source": [
    "page3"
   ]
  },
  {
   "cell_type": "code",
   "execution_count": 21,
   "id": "5841446e",
   "metadata": {},
   "outputs": [],
   "source": [
    "soup=BeautifulSoup(page3.text,'lxml')"
   ]
  },
  {
   "cell_type": "code",
   "execution_count": 22,
   "id": "2aff9f55",
   "metadata": {},
   "outputs": [
    {
     "data": {
      "text/plain": [
       "<!DOCTYPE html>\n",
       "<html lang=\"en\">\n",
       "<head>\n",
       "<!-- Anti-flicker snippet (recommended)  -->\n",
       "<style>.async-hide {\n",
       "\t\topacity: 0 !important\n",
       "\t} </style>\n",
       "<script>(function (a, s, y, n, c, h, i, d, e) {\n",
       "\t\ts.className += ' ' + y;\n",
       "\t\th.start = 1 * new Date;\n",
       "\t\th.end = i = function () {\n",
       "\t\t\ts.className = s.className.replace(RegExp(' ?' + y), '')\n",
       "\t\t};\n",
       "\t\t(a[n] = a[n] || []).hide = h;\n",
       "\t\tsetTimeout(function () {\n",
       "\t\t\ti();\n",
       "\t\t\th.end = null\n",
       "\t\t}, c);\n",
       "\t\th.timeout = c;\n",
       "\t})(window, document.documentElement, 'async-hide', 'dataLayer', 4000,\n",
       "\t\t{'GTM-NVFPDWB': true});</script>\n",
       "<!-- Google Tag Manager -->\n",
       "<script>(function (w, d, s, l, i) {\n",
       "\t\tw[l] = w[l] || [];\n",
       "\t\tw[l].push({\n",
       "\t\t\t'gtm.start':\n",
       "\t\t\t\tnew Date().getTime(), event: 'gtm.js'\n",
       "\t\t});\n",
       "\t\tvar f = d.getElementsByTagName(s)[0],\n",
       "\t\t\tj = d.createElement(s), dl = l != 'dataLayer' ? '&l=' + l : '';\n",
       "\t\tj.async = true;\n",
       "\t\tj.src =\n",
       "\t\t\t'https://www.googletagmanager.com/gtm.js?id=' + i + dl;\n",
       "\t\tf.parentNode.insertBefore(j, f);\n",
       "\t})(window, document, 'script', 'dataLayer', 'GTM-NVFPDWB');</script>\n",
       "<!-- End Google Tag Manager -->\n",
       "<title>Web Scraper Test Sites</title>\n",
       "<meta charset=\"utf-8\"/>\n",
       "<meta content=\"IE=edge,chrome=1\" http-equiv=\"X-UA-Compatible\"/>\n",
       "<meta content=\"web scraping,Web Scraper,Chrome extension,Crawling,Cross platform scraper\" name=\"keywords\"/>\n",
       "<meta content=\"The most popular web scraping extension. Start scraping in minutes. Automate your tasks with our Cloud Scraper. No software to download, no coding needed.\" name=\"description\"/>\n",
       "<link href=\"/favicon.png\" rel=\"icon\" sizes=\"128x128\"/>\n",
       "<meta content=\"width=device-width, initial-scale=1.0\" name=\"viewport\"/>\n",
       "<link href=\"/css/app.css?id=e30a09b05325a08d79dd\" rel=\"stylesheet\"/>\n",
       "<link href=\"https://webscraper.io/test-sites/e-commerce/allinone/phones/touch\" rel=\"canonical\"/>\n",
       "<link href=\"/img/logo-icon.png\" rel=\"apple-touch-icon\"/>\n",
       "<script defer=\"\" src=\"/js/app.js?id=1c1cafc4a642f71eb469\"></script>\n",
       "</head>\n",
       "<body>\n",
       "<!-- Google Tag Manager (noscript) -->\n",
       "<noscript>\n",
       "<iframe height=\"0\" src=\"https://www.googletagmanager.com/ns.html?id=GTM-NVFPDWB\" style=\"display:none;visibility:hidden\" width=\"0\"></iframe>\n",
       "</noscript>\n",
       "<!-- End Google Tag Manager (noscript) -->\n",
       "<header class=\"navbar navbar-fixed-top navbar-static\" role=\"banner\">\n",
       "<div class=\"container\">\n",
       "<div class=\"navbar-header\">\n",
       "<a data-target=\".side-collapse\" data-target-2=\".side-collapse-container\" data-toggle=\"collapse-side\">\n",
       "<button aria-controls=\"navbar\" aria-expanded=\"false\" class=\"navbar-toggle pull-right collapsed\" data-target=\"#navbar\" data-target-2=\".side-collapse-container\" data-target-3=\".side-collapse\" data-toggle=\"collapse\" type=\"button\">\n",
       "<span class=\"sr-only\">Toggle navigation</span>\n",
       "<span class=\"icon-bar top-bar\"></span>\n",
       "<span class=\"icon-bar middle-bar\"></span>\n",
       "<span class=\"icon-bar bottom-bar\"></span>\n",
       "</button>\n",
       "</a>\n",
       "<div class=\"navbar-brand\">\n",
       "<a href=\"/\"><img alt=\"Web Scraper\" src=\"/img/logo_white.svg\"/></a>\n",
       "</div>\n",
       "</div>\n",
       "<div class=\"side-collapse in\">\n",
       "<nav class=\"navbar-collapse collapse\" id=\"navbar\" role=\"navigation\">\n",
       "<ul class=\"nav navbar-nav navbar-right\">\n",
       "<li class=\"hidden\">\n",
       "<a href=\"#page-top\"></a>\n",
       "</li>\n",
       "<li>\n",
       "<a class=\"menuitm\" href=\"/\">\n",
       "<p>Web Scraper</p>\n",
       "<div class=\"crta\"></div>\n",
       "</a>\n",
       "</li>\n",
       "<li>\n",
       "<a class=\"menuitm\" href=\"/cloud-scraper\">\n",
       "<p>Cloud Scraper</p>\n",
       "<div class=\"crta\"></div>\n",
       "</a>\n",
       "</li>\n",
       "<li>\n",
       "<a class=\"menuitm\" href=\"/pricing\">\n",
       "<p>Pricing</p>\n",
       "<div class=\"crta\"></div>\n",
       "</a>\n",
       "</li>\n",
       "<li class=\"dropdown\">\n",
       "<a class=\"menuitm dropdown-toggle\" data-toggle=\"dropdown\" href=\"#section3\">\n",
       "<p>Learn</p>\n",
       "<div class=\"crta\"></div>\n",
       "</a>\n",
       "<ul class=\"dropdown-menu\">\n",
       "<li>\n",
       "<a href=\"/documentation\">Documentation</a>\n",
       "</li>\n",
       "<li>\n",
       "<a href=\"/tutorials\">Video Tutorials</a>\n",
       "</li>\n",
       "<li>\n",
       "<a href=\"/how-to-videos\">How to</a>\n",
       "</li>\n",
       "<li>\n",
       "<a href=\"/test-sites\">Test Sites</a>\n",
       "</li>\n",
       "<li>\n",
       "<a href=\"https://forum.webscraper.io/\" rel=\"noopener\" target=\"_blank\">Forum</a>\n",
       "</li>\n",
       "</ul>\n",
       "</li>\n",
       "<li>\n",
       "<a class=\"btn-menu1 install-extension\" href=\"https://chrome.google.com/webstore/detail/web-scraper/jnhgnonknehpejjnehehllkliplmbmhn?hl=en\" rel=\"noopener\" target=\"_blank\">Install</a>\n",
       "</li>\n",
       "<li>\n",
       "<a class=\"btn-menu2\" href=\"https://cloud.webscraper.io/\">Login</a>\n",
       "</li>\n",
       "</ul>\n",
       "</nav>\n",
       "</div>\n",
       "</div>\n",
       "</header>\n",
       "<div class=\"wrapper\">\n",
       "<div class=\"formenu-here container-fluid\">\n",
       "</div>\n",
       "<div class=\"container-fluid blog-hero\">\n",
       "<div class=\"container\">\n",
       "<div class=\"row\">\n",
       "<div class=\"col-md-12\">\n",
       "<h1>Test Sites</h1>\n",
       "</div>\n",
       "</div>\n",
       "</div>\n",
       "</div>\n",
       "<div class=\"container test-site\">\n",
       "<div class=\"row\">\n",
       "<div class=\"col-md-3 sidebar\">\n",
       "<div class=\"navbar-default sidebar\" role=\"navigation\">\n",
       "<div class=\"sidebar-nav navbar-collapse\">\n",
       "<ul class=\"nav\" id=\"side-menu\">\n",
       "<li>\n",
       "<a href=\"/test-sites/e-commerce/allinone\">Home</a>\n",
       "</li>\n",
       "<li>\n",
       "<a class=\"category-link\" href=\"/test-sites/e-commerce/allinone/computers\">\n",
       "\t\t\t\t\tComputers\n",
       "\t\t\t\t\t<span class=\"fa arrow\"></span>\n",
       "</a>\n",
       "</li>\n",
       "<li class=\"active\">\n",
       "<a class=\"category-link\" href=\"/test-sites/e-commerce/allinone/phones\">\n",
       "\t\t\t\t\tPhones\n",
       "\t\t\t\t\t<span class=\"fa arrow\"></span>\n",
       "</a>\n",
       "<ul class=\"nav nav-second-level collapse in\">\n",
       "<li>\n",
       "<a class=\"subcategory-link active\" href=\"/test-sites/e-commerce/allinone/phones/touch\">\n",
       "\t\t\t\t\t\t\tTouch\n",
       "\t\t\t\t\t\t</a>\n",
       "</li>\n",
       "</ul>\n",
       "</li>\n",
       "</ul>\n",
       "</div>\n",
       "</div>\n",
       "</div>\n",
       "<div class=\"col-md-9\">\n",
       "<h1 class=\"page-header\">Phones / Touch</h1>\n",
       "<div class=\"row\">\n",
       "<div class=\"col-sm-4 col-lg-4 col-md-4\">\n",
       "<div class=\"thumbnail\">\n",
       "<img alt=\"item\" class=\"img-responsive\" src=\"/images/test-sites/e-commerce/items/cart2.png\"/>\n",
       "<div class=\"caption\">\n",
       "<h4 class=\"pull-right price\">$24.99</h4>\n",
       "<h4>\n",
       "<a class=\"title\" href=\"/test-sites/e-commerce/allinone/product/486\" title=\"Nokia 123\">Nokia 123</a>\n",
       "</h4>\n",
       "<p class=\"description\">7 day battery</p>\n",
       "</div>\n",
       "<div class=\"ratings\">\n",
       "<p class=\"pull-right\">11 reviews</p>\n",
       "<p data-rating=\"3\">\n",
       "<span class=\"glyphicon glyphicon-star\"></span>\n",
       "<span class=\"glyphicon glyphicon-star\"></span>\n",
       "<span class=\"glyphicon glyphicon-star\"></span>\n",
       "</p>\n",
       "</div>\n",
       "</div>\n",
       "</div>\n",
       "<div class=\"col-sm-4 col-lg-4 col-md-4\">\n",
       "<div class=\"thumbnail\">\n",
       "<img alt=\"item\" class=\"img-responsive\" src=\"/images/test-sites/e-commerce/items/cart2.png\"/>\n",
       "<div class=\"caption\">\n",
       "<h4 class=\"pull-right price\">$57.99</h4>\n",
       "<h4>\n",
       "<a class=\"title\" href=\"/test-sites/e-commerce/allinone/product/487\" title=\"LG Optimus\">LG Optimus</a>\n",
       "</h4>\n",
       "<p class=\"description\">3.2\" screen</p>\n",
       "</div>\n",
       "<div class=\"ratings\">\n",
       "<p class=\"pull-right\">11 reviews</p>\n",
       "<p data-rating=\"3\">\n",
       "<span class=\"glyphicon glyphicon-star\"></span>\n",
       "<span class=\"glyphicon glyphicon-star\"></span>\n",
       "<span class=\"glyphicon glyphicon-star\"></span>\n",
       "</p>\n",
       "</div>\n",
       "</div>\n",
       "</div>\n",
       "<div class=\"col-sm-4 col-lg-4 col-md-4\">\n",
       "<div class=\"thumbnail\">\n",
       "<img alt=\"item\" class=\"img-responsive\" src=\"/images/test-sites/e-commerce/items/cart2.png\"/>\n",
       "<div class=\"caption\">\n",
       "<h4 class=\"pull-right price\">$93.99</h4>\n",
       "<h4>\n",
       "<a class=\"title\" href=\"/test-sites/e-commerce/allinone/product/488\" title=\"Samsung Galaxy\">Samsung Galaxy</a>\n",
       "</h4>\n",
       "<p class=\"description\">5 mpx. Android 5.0</p>\n",
       "</div>\n",
       "<div class=\"ratings\">\n",
       "<p class=\"pull-right\">3 reviews</p>\n",
       "<p data-rating=\"3\">\n",
       "<span class=\"glyphicon glyphicon-star\"></span>\n",
       "<span class=\"glyphicon glyphicon-star\"></span>\n",
       "<span class=\"glyphicon glyphicon-star\"></span>\n",
       "</p>\n",
       "</div>\n",
       "</div>\n",
       "</div>\n",
       "<div class=\"col-sm-4 col-lg-4 col-md-4\">\n",
       "<div class=\"thumbnail\">\n",
       "<img alt=\"item\" class=\"img-responsive\" src=\"/images/test-sites/e-commerce/items/cart2.png\"/>\n",
       "<div class=\"caption\">\n",
       "<h4 class=\"pull-right price\">$109.99</h4>\n",
       "<h4>\n",
       "<a class=\"title\" href=\"/test-sites/e-commerce/allinone/product/489\" title=\"Nokia X\">Nokia X</a>\n",
       "</h4>\n",
       "<p class=\"description\">Andoid, Jolla dualboot</p>\n",
       "</div>\n",
       "<div class=\"ratings\">\n",
       "<p class=\"pull-right\">4 reviews</p>\n",
       "<p data-rating=\"4\">\n",
       "<span class=\"glyphicon glyphicon-star\"></span>\n",
       "<span class=\"glyphicon glyphicon-star\"></span>\n",
       "<span class=\"glyphicon glyphicon-star\"></span>\n",
       "<span class=\"glyphicon glyphicon-star\"></span>\n",
       "</p>\n",
       "</div>\n",
       "</div>\n",
       "</div>\n",
       "<div class=\"col-sm-4 col-lg-4 col-md-4\">\n",
       "<div class=\"thumbnail\">\n",
       "<img alt=\"item\" class=\"img-responsive\" src=\"/images/test-sites/e-commerce/items/cart2.png\"/>\n",
       "<div class=\"caption\">\n",
       "<h4 class=\"pull-right price\">$118.99</h4>\n",
       "<h4>\n",
       "<a class=\"title\" href=\"/test-sites/e-commerce/allinone/product/490\" title=\"Sony Xperia\">Sony Xperia</a>\n",
       "</h4>\n",
       "<p class=\"description\">GPS, waterproof</p>\n",
       "</div>\n",
       "<div class=\"ratings\">\n",
       "<p class=\"pull-right\">6 reviews</p>\n",
       "<p data-rating=\"1\">\n",
       "<span class=\"glyphicon glyphicon-star\"></span>\n",
       "</p>\n",
       "</div>\n",
       "</div>\n",
       "</div>\n",
       "<div class=\"col-sm-4 col-lg-4 col-md-4\">\n",
       "<div class=\"thumbnail\">\n",
       "<img alt=\"item\" class=\"img-responsive\" src=\"/images/test-sites/e-commerce/items/cart2.png\"/>\n",
       "<div class=\"caption\">\n",
       "<h4 class=\"pull-right price\">$499.99</h4>\n",
       "<h4>\n",
       "<a class=\"title\" href=\"/test-sites/e-commerce/allinone/product/491\" title=\"Ubuntu Edge\">Ubuntu Edge</a>\n",
       "</h4>\n",
       "<p class=\"description\">Sapphire glass</p>\n",
       "</div>\n",
       "<div class=\"ratings\">\n",
       "<p class=\"pull-right\">2 reviews</p>\n",
       "<p data-rating=\"1\">\n",
       "<span class=\"glyphicon glyphicon-star\"></span>\n",
       "</p>\n",
       "</div>\n",
       "</div>\n",
       "</div>\n",
       "<div class=\"col-sm-4 col-lg-4 col-md-4\">\n",
       "<div class=\"thumbnail\">\n",
       "<img alt=\"item\" class=\"img-responsive\" src=\"/images/test-sites/e-commerce/items/cart2.png\"/>\n",
       "<div class=\"caption\">\n",
       "<h4 class=\"pull-right price\">$899.99</h4>\n",
       "<h4>\n",
       "<a class=\"title\" href=\"/test-sites/e-commerce/allinone/product/492\" title=\"Iphone\">Iphone</a>\n",
       "</h4>\n",
       "<p class=\"description\">White</p>\n",
       "</div>\n",
       "<div class=\"ratings\">\n",
       "<p class=\"pull-right\">10 reviews</p>\n",
       "<p data-rating=\"1\">\n",
       "<span class=\"glyphicon glyphicon-star\"></span>\n",
       "</p>\n",
       "</div>\n",
       "</div>\n",
       "</div>\n",
       "<div class=\"col-sm-4 col-lg-4 col-md-4\">\n",
       "<div class=\"thumbnail\">\n",
       "<img alt=\"item\" class=\"img-responsive\" src=\"/images/test-sites/e-commerce/items/cart2.png\"/>\n",
       "<div class=\"caption\">\n",
       "<h4 class=\"pull-right price\">$899.99</h4>\n",
       "<h4>\n",
       "<a class=\"title\" href=\"/test-sites/e-commerce/allinone/product/493\" title=\"Iphone\">Iphone</a>\n",
       "</h4>\n",
       "<p class=\"description\">Silver</p>\n",
       "</div>\n",
       "<div class=\"ratings\">\n",
       "<p class=\"pull-right\">8 reviews</p>\n",
       "<p data-rating=\"2\">\n",
       "<span class=\"glyphicon glyphicon-star\"></span>\n",
       "<span class=\"glyphicon glyphicon-star\"></span>\n",
       "</p>\n",
       "</div>\n",
       "</div>\n",
       "</div>\n",
       "<div class=\"col-sm-4 col-lg-4 col-md-4\">\n",
       "<div class=\"thumbnail\">\n",
       "<img alt=\"item\" class=\"img-responsive\" src=\"/images/test-sites/e-commerce/items/cart2.png\"/>\n",
       "<div class=\"caption\">\n",
       "<h4 class=\"pull-right price\">$899.99</h4>\n",
       "<h4>\n",
       "<a class=\"title\" href=\"/test-sites/e-commerce/allinone/product/494\" title=\"Iphone\">Iphone</a>\n",
       "</h4>\n",
       "<p class=\"description\">Black</p>\n",
       "</div>\n",
       "<div class=\"ratings\">\n",
       "<p class=\"pull-right\">1 reviews</p>\n",
       "<p data-rating=\"1\">\n",
       "<span class=\"glyphicon glyphicon-star\"></span>\n",
       "</p>\n",
       "</div>\n",
       "</div>\n",
       "</div>\n",
       "</div>\n",
       "</div>\n",
       "</div>\n",
       "</div>\n",
       "<div class=\"clearfix\"></div>\n",
       "<div class=\"push\"></div>\n",
       "</div>\n",
       "<div class=\"container-fluid footer\" id=\"layout-footer\">\n",
       "<div class=\"container\">\n",
       "<div class=\"row\">\n",
       "<div class=\"col-md-3\">\n",
       "<ul>\n",
       "<li><p>Products</p></li>\n",
       "<li>\n",
       "<a href=\"/\">Web Scraper browser extension</a>\n",
       "</li>\n",
       "<li>\n",
       "<a href=\"/pricing\">Web Scraper Cloud</a>\n",
       "</li>\n",
       "</ul>\n",
       "</div>\n",
       "<div class=\"col-md-3\">\n",
       "<ul>\n",
       "<li><p>Company</p></li>\n",
       "<li><a href=\"/contact\">Contact</a>\n",
       "</li>\n",
       "<li>\n",
       "<a href=\"/privacy-policy\">Website Privacy Policy</a>\n",
       "</li>\n",
       "<li>\n",
       "<a href=\"/extension-privacy-policy\">Browser Extension Privacy Policy</a>\n",
       "</li>\n",
       "<li>\n",
       "<a href=\"http://webscraperio.us-east-1.elasticbeanstalk.com/downloads/Web_Scraper_Media_Kit.zip\">Media kit</a>\n",
       "</li>\n",
       "<li><a href=\"/jobs\">Jobs</a></li>\n",
       "</ul>\n",
       "</div>\n",
       "<div class=\"col-md-3\">\n",
       "<ul>\n",
       "<li><p>Resources</p></li>\n",
       "<li><a href=\"/blog\">Blog</a></li>\n",
       "<li>\n",
       "<a href=\"/documentation\">Documentation</a>\n",
       "</li>\n",
       "<li>\n",
       "<a href=\"/tutorials\">Video Tutorials</a>\n",
       "</li>\n",
       "<li>\n",
       "<a href=\"/screenshots\">Screenshots</a>\n",
       "</li>\n",
       "<li>\n",
       "<a href=\"/test-sites\">Test Sites</a>\n",
       "</li>\n",
       "<li>\n",
       "<a href=\"https://forum.webscraper.io/\" rel=\"noopener\" target=\"_blank\">Forum</a>\n",
       "</li>\n",
       "</ul>\n",
       "</div>\n",
       "<div class=\"col-md-3\">\n",
       "<ul>\n",
       "<li><p>CONTACT US</p></li>\n",
       "<li>\n",
       "<a href=\"mailto:info@webscraper.io\">info@webscraper.io</a>\n",
       "</li>\n",
       "<li>Rupniecibas iela 30,<br/> Riga, Latvia, LV-1045</li>\n",
       "</ul>\n",
       "<ul class=\"smedia\">\n",
       "<li>\n",
       "<a href=\"https://www.facebook.com/webscraperio/\" rel=\"noopener\" target=\"_blank\"><img alt=\"Web Scraper on Facebook\" src=\"/img/fbicon.png\"/></a>\n",
       "</li>\n",
       "<li>\n",
       "<a href=\"https://twitter.com/webscraperio\" rel=\"noopener\" target=\"_blank\"><img alt=\"Web Scraper on Twitter\" src=\"/img/twicon.png\"/></a>\n",
       "</li>\n",
       "</ul>\n",
       "</div>\n",
       "</div>\n",
       "<div class=\"row\">\n",
       "<div class=\"col-md-12\">\n",
       "<p class=\"copyright\">Copyright &amp;copy 2022\n",
       "\t\t\t\t\t<a href=\"#\">Web Scraper</a> | All rights\n",
       "\t\t\t\t\treserved | Made by zoom59</p>\n",
       "</div>\n",
       "</div>\n",
       "</div>\n",
       "</div>\n",
       "</body>\n",
       "</html>"
      ]
     },
     "execution_count": 22,
     "metadata": {},
     "output_type": "execute_result"
    }
   ],
   "source": [
    "soup"
   ]
  },
  {
   "cell_type": "code",
   "execution_count": 23,
   "id": "0b63da0f",
   "metadata": {},
   "outputs": [
    {
     "data": {
      "text/plain": [
       "<header class=\"navbar navbar-fixed-top navbar-static\" role=\"banner\">\n",
       "<div class=\"container\">\n",
       "<div class=\"navbar-header\">\n",
       "<a data-target=\".side-collapse\" data-target-2=\".side-collapse-container\" data-toggle=\"collapse-side\">\n",
       "<button aria-controls=\"navbar\" aria-expanded=\"false\" class=\"navbar-toggle pull-right collapsed\" data-target=\"#navbar\" data-target-2=\".side-collapse-container\" data-target-3=\".side-collapse\" data-toggle=\"collapse\" type=\"button\">\n",
       "<span class=\"sr-only\">Toggle navigation</span>\n",
       "<span class=\"icon-bar top-bar\"></span>\n",
       "<span class=\"icon-bar middle-bar\"></span>\n",
       "<span class=\"icon-bar bottom-bar\"></span>\n",
       "</button>\n",
       "</a>\n",
       "<div class=\"navbar-brand\">\n",
       "<a href=\"/\"><img alt=\"Web Scraper\" src=\"/img/logo_white.svg\"/></a>\n",
       "</div>\n",
       "</div>\n",
       "<div class=\"side-collapse in\">\n",
       "<nav class=\"navbar-collapse collapse\" id=\"navbar\" role=\"navigation\">\n",
       "<ul class=\"nav navbar-nav navbar-right\">\n",
       "<li class=\"hidden\">\n",
       "<a href=\"#page-top\"></a>\n",
       "</li>\n",
       "<li>\n",
       "<a class=\"menuitm\" href=\"/\">\n",
       "<p>Web Scraper</p>\n",
       "<div class=\"crta\"></div>\n",
       "</a>\n",
       "</li>\n",
       "<li>\n",
       "<a class=\"menuitm\" href=\"/cloud-scraper\">\n",
       "<p>Cloud Scraper</p>\n",
       "<div class=\"crta\"></div>\n",
       "</a>\n",
       "</li>\n",
       "<li>\n",
       "<a class=\"menuitm\" href=\"/pricing\">\n",
       "<p>Pricing</p>\n",
       "<div class=\"crta\"></div>\n",
       "</a>\n",
       "</li>\n",
       "<li class=\"dropdown\">\n",
       "<a class=\"menuitm dropdown-toggle\" data-toggle=\"dropdown\" href=\"#section3\">\n",
       "<p>Learn</p>\n",
       "<div class=\"crta\"></div>\n",
       "</a>\n",
       "<ul class=\"dropdown-menu\">\n",
       "<li>\n",
       "<a href=\"/documentation\">Documentation</a>\n",
       "</li>\n",
       "<li>\n",
       "<a href=\"/tutorials\">Video Tutorials</a>\n",
       "</li>\n",
       "<li>\n",
       "<a href=\"/how-to-videos\">How to</a>\n",
       "</li>\n",
       "<li>\n",
       "<a href=\"/test-sites\">Test Sites</a>\n",
       "</li>\n",
       "<li>\n",
       "<a href=\"https://forum.webscraper.io/\" rel=\"noopener\" target=\"_blank\">Forum</a>\n",
       "</li>\n",
       "</ul>\n",
       "</li>\n",
       "<li>\n",
       "<a class=\"btn-menu1 install-extension\" href=\"https://chrome.google.com/webstore/detail/web-scraper/jnhgnonknehpejjnehehllkliplmbmhn?hl=en\" rel=\"noopener\" target=\"_blank\">Install</a>\n",
       "</li>\n",
       "<li>\n",
       "<a class=\"btn-menu2\" href=\"https://cloud.webscraper.io/\">Login</a>\n",
       "</li>\n",
       "</ul>\n",
       "</nav>\n",
       "</div>\n",
       "</div>\n",
       "</header>"
      ]
     },
     "execution_count": 23,
     "metadata": {},
     "output_type": "execute_result"
    }
   ],
   "source": [
    "soup.header"
   ]
  },
  {
   "cell_type": "code",
   "execution_count": 24,
   "id": "0e3e84d7",
   "metadata": {},
   "outputs": [
    {
     "data": {
      "text/plain": [
       "<header class=\"navbar navbar-fixed-top navbar-static\" role=\"banner\">\n",
       "<div class=\"container\">\n",
       "<div class=\"navbar-header\">\n",
       "<a data-target=\".side-collapse\" data-target-2=\".side-collapse-container\" data-toggle=\"collapse-side\">\n",
       "<button aria-controls=\"navbar\" aria-expanded=\"false\" class=\"navbar-toggle pull-right collapsed\" data-target=\"#navbar\" data-target-2=\".side-collapse-container\" data-target-3=\".side-collapse\" data-toggle=\"collapse\" type=\"button\">\n",
       "<span class=\"sr-only\">Toggle navigation</span>\n",
       "<span class=\"icon-bar top-bar\"></span>\n",
       "<span class=\"icon-bar middle-bar\"></span>\n",
       "<span class=\"icon-bar bottom-bar\"></span>\n",
       "</button>\n",
       "</a>\n",
       "<div class=\"navbar-brand\">\n",
       "<a href=\"/\"><img alt=\"Web Scraper\" src=\"/img/logo_white.svg\"/></a>\n",
       "</div>\n",
       "</div>\n",
       "<div class=\"side-collapse in\">\n",
       "<nav class=\"navbar-collapse collapse\" id=\"navbar\" role=\"navigation\">\n",
       "<ul class=\"nav navbar-nav navbar-right\">\n",
       "<li class=\"hidden\">\n",
       "<a href=\"#page-top\"></a>\n",
       "</li>\n",
       "<li>\n",
       "<a class=\"menuitm\" href=\"/\">\n",
       "<p>Web Scraper</p>\n",
       "<div class=\"crta\"></div>\n",
       "</a>\n",
       "</li>\n",
       "<li>\n",
       "<a class=\"menuitm\" href=\"/cloud-scraper\">\n",
       "<p>Cloud Scraper</p>\n",
       "<div class=\"crta\"></div>\n",
       "</a>\n",
       "</li>\n",
       "<li>\n",
       "<a class=\"menuitm\" href=\"/pricing\">\n",
       "<p>Pricing</p>\n",
       "<div class=\"crta\"></div>\n",
       "</a>\n",
       "</li>\n",
       "<li class=\"dropdown\">\n",
       "<a class=\"menuitm dropdown-toggle\" data-toggle=\"dropdown\" href=\"#section3\">\n",
       "<p>Learn</p>\n",
       "<div class=\"crta\"></div>\n",
       "</a>\n",
       "<ul class=\"dropdown-menu\">\n",
       "<li>\n",
       "<a href=\"/documentation\">Documentation</a>\n",
       "</li>\n",
       "<li>\n",
       "<a href=\"/tutorials\">Video Tutorials</a>\n",
       "</li>\n",
       "<li>\n",
       "<a href=\"/how-to-videos\">How to</a>\n",
       "</li>\n",
       "<li>\n",
       "<a href=\"/test-sites\">Test Sites</a>\n",
       "</li>\n",
       "<li>\n",
       "<a href=\"https://forum.webscraper.io/\" rel=\"noopener\" target=\"_blank\">Forum</a>\n",
       "</li>\n",
       "</ul>\n",
       "</li>\n",
       "<li>\n",
       "<a class=\"btn-menu1 install-extension\" href=\"https://chrome.google.com/webstore/detail/web-scraper/jnhgnonknehpejjnehehllkliplmbmhn?hl=en\" rel=\"noopener\" target=\"_blank\">Install</a>\n",
       "</li>\n",
       "<li>\n",
       "<a class=\"btn-menu2\" href=\"https://cloud.webscraper.io/\">Login</a>\n",
       "</li>\n",
       "</ul>\n",
       "</nav>\n",
       "</div>\n",
       "</div>\n",
       "</header>"
      ]
     },
     "execution_count": 24,
     "metadata": {},
     "output_type": "execute_result"
    }
   ],
   "source": [
    "soup.find('header')"
   ]
  },
  {
   "cell_type": "code",
   "execution_count": 30,
   "id": "43b93d0a",
   "metadata": {},
   "outputs": [
    {
     "data": {
      "text/plain": [
       "<h4 class=\"pull-right price\">$24.99</h4>"
      ]
     },
     "execution_count": 30,
     "metadata": {},
     "output_type": "execute_result"
    }
   ],
   "source": [
    "soup.find('h4',{'class':'pull-right price'})"
   ]
  },
  {
   "cell_type": "code",
   "execution_count": 32,
   "id": "5afc5c08",
   "metadata": {},
   "outputs": [
    {
     "data": {
      "text/plain": [
       "[<h4 class=\"pull-right price\">$24.99</h4>,\n",
       " <h4 class=\"pull-right price\">$57.99</h4>,\n",
       " <h4 class=\"pull-right price\">$93.99</h4>,\n",
       " <h4 class=\"pull-right price\">$109.99</h4>,\n",
       " <h4 class=\"pull-right price\">$118.99</h4>,\n",
       " <h4 class=\"pull-right price\">$499.99</h4>,\n",
       " <h4 class=\"pull-right price\">$899.99</h4>,\n",
       " <h4 class=\"pull-right price\">$899.99</h4>,\n",
       " <h4 class=\"pull-right price\">$899.99</h4>]"
      ]
     },
     "execution_count": 32,
     "metadata": {},
     "output_type": "execute_result"
    }
   ],
   "source": [
    "soup.find_all('h4',{'class':'pull-right price'})\n",
    "# for finding all the occurence with the same class"
   ]
  },
  {
   "cell_type": "code",
   "execution_count": 33,
   "id": "4ae89f57",
   "metadata": {},
   "outputs": [
    {
     "data": {
      "text/plain": [
       "[<p class=\"pull-right\">11 reviews</p>,\n",
       " <p class=\"pull-right\">11 reviews</p>,\n",
       " <p class=\"pull-right\">3 reviews</p>,\n",
       " <p class=\"pull-right\">4 reviews</p>,\n",
       " <p class=\"pull-right\">6 reviews</p>,\n",
       " <p class=\"pull-right\">2 reviews</p>,\n",
       " <p class=\"pull-right\">10 reviews</p>,\n",
       " <p class=\"pull-right\">8 reviews</p>,\n",
       " <p class=\"pull-right\">1 reviews</p>]"
      ]
     },
     "execution_count": 33,
     "metadata": {},
     "output_type": "execute_result"
    }
   ],
   "source": [
    "soup.find_all('p',class_='pull-right')"
   ]
  },
  {
   "cell_type": "code",
   "execution_count": 38,
   "id": "ee932bcc",
   "metadata": {},
   "outputs": [],
   "source": [
    "# soup.find_all(['h4','a','p'])"
   ]
  },
  {
   "cell_type": "code",
   "execution_count": 44,
   "id": "8aa1d57e",
   "metadata": {},
   "outputs": [
    {
     "data": {
      "text/plain": [
       "[<a class=\"title\" href=\"/test-sites/e-commerce/allinone/product/486\" title=\"Nokia 123\">Nokia 123</a>,\n",
       " <a class=\"title\" href=\"/test-sites/e-commerce/allinone/product/487\" title=\"LG Optimus\">LG Optimus</a>,\n",
       " <a class=\"title\" href=\"/test-sites/e-commerce/allinone/product/488\" title=\"Samsung Galaxy\">Samsung Galaxy</a>,\n",
       " <a class=\"title\" href=\"/test-sites/e-commerce/allinone/product/489\" title=\"Nokia X\">Nokia X</a>,\n",
       " <a class=\"title\" href=\"/test-sites/e-commerce/allinone/product/490\" title=\"Sony Xperia\">Sony Xperia</a>,\n",
       " <a class=\"title\" href=\"/test-sites/e-commerce/allinone/product/491\" title=\"Ubuntu Edge\">Ubuntu Edge</a>,\n",
       " <a class=\"title\" href=\"/test-sites/e-commerce/allinone/product/492\" title=\"Iphone\">Iphone</a>,\n",
       " <a class=\"title\" href=\"/test-sites/e-commerce/allinone/product/493\" title=\"Iphone\">Iphone</a>,\n",
       " <a class=\"title\" href=\"/test-sites/e-commerce/allinone/product/494\" title=\"Iphone\">Iphone</a>]"
      ]
     },
     "execution_count": 44,
     "metadata": {},
     "output_type": "execute_result"
    }
   ],
   "source": [
    "# soup.find_all(id=True)\n",
    "# soup.find_all(string='Nokia 123')\n",
    "soup.find_all('a',class_='title')"
   ]
  },
  {
   "cell_type": "code",
   "execution_count": 45,
   "id": "127c6443",
   "metadata": {},
   "outputs": [
    {
     "data": {
      "text/plain": [
       "[<p class=\"pull-right\">11 reviews</p>,\n",
       " <p class=\"pull-right\">11 reviews</p>,\n",
       " <p class=\"pull-right\">3 reviews</p>,\n",
       " <p class=\"pull-right\">4 reviews</p>,\n",
       " <p class=\"pull-right\">6 reviews</p>,\n",
       " <p class=\"pull-right\">2 reviews</p>,\n",
       " <p class=\"pull-right\">10 reviews</p>,\n",
       " <p class=\"pull-right\">8 reviews</p>,\n",
       " <p class=\"pull-right\">1 reviews</p>]"
      ]
     },
     "execution_count": 45,
     "metadata": {},
     "output_type": "execute_result"
    }
   ],
   "source": [
    "soup.find_all('p',class_='pull-right')"
   ]
  },
  {
   "cell_type": "code",
   "execution_count": 46,
   "id": "9f18124b",
   "metadata": {},
   "outputs": [],
   "source": [
    "import re"
   ]
  },
  {
   "cell_type": "code",
   "execution_count": 52,
   "id": "9ea93da8",
   "metadata": {},
   "outputs": [
    {
     "data": {
      "text/plain": [
       "['Samsung Galaxy']"
      ]
     },
     "execution_count": 52,
     "metadata": {},
     "output_type": "execute_result"
    }
   ],
   "source": [
    "soup.find_all(string=re.compile('Sam'))"
   ]
  },
  {
   "cell_type": "code",
   "execution_count": 57,
   "id": "20bc9884",
   "metadata": {},
   "outputs": [
    {
     "data": {
      "text/plain": [
       "[<button aria-controls=\"navbar\" aria-expanded=\"false\" class=\"navbar-toggle pull-right collapsed\" data-target=\"#navbar\" data-target-2=\".side-collapse-container\" data-target-3=\".side-collapse\" data-toggle=\"collapse\" type=\"button\">\n",
       " <span class=\"sr-only\">Toggle navigation</span>\n",
       " <span class=\"icon-bar top-bar\"></span>\n",
       " <span class=\"icon-bar middle-bar\"></span>\n",
       " <span class=\"icon-bar bottom-bar\"></span>\n",
       " </button>,\n",
       " <h4 class=\"pull-right price\">$24.99</h4>,\n",
       " <p class=\"pull-right\">11 reviews</p>,\n",
       " <h4 class=\"pull-right price\">$57.99</h4>,\n",
       " <p class=\"pull-right\">11 reviews</p>,\n",
       " <h4 class=\"pull-right price\">$93.99</h4>,\n",
       " <p class=\"pull-right\">3 reviews</p>,\n",
       " <h4 class=\"pull-right price\">$109.99</h4>,\n",
       " <p class=\"pull-right\">4 reviews</p>,\n",
       " <h4 class=\"pull-right price\">$118.99</h4>,\n",
       " <p class=\"pull-right\">6 reviews</p>,\n",
       " <h4 class=\"pull-right price\">$499.99</h4>,\n",
       " <p class=\"pull-right\">2 reviews</p>,\n",
       " <h4 class=\"pull-right price\">$899.99</h4>,\n",
       " <p class=\"pull-right\">10 reviews</p>,\n",
       " <h4 class=\"pull-right price\">$899.99</h4>,\n",
       " <p class=\"pull-right\">8 reviews</p>,\n",
       " <h4 class=\"pull-right price\">$899.99</h4>,\n",
       " <p class=\"pull-right\">1 reviews</p>]"
      ]
     },
     "execution_count": 57,
     "metadata": {},
     "output_type": "execute_result"
    }
   ],
   "source": [
    "soup.find_all(class_=re.compile('pull-righ'))"
   ]
  },
  {
   "cell_type": "code",
   "execution_count": 63,
   "id": "6fc252ab",
   "metadata": {},
   "outputs": [
    {
     "data": {
      "text/plain": [
       "[<button aria-controls=\"navbar\" aria-expanded=\"false\" class=\"navbar-toggle pull-right collapsed\" data-target=\"#navbar\" data-target-2=\".side-collapse-container\" data-target-3=\".side-collapse\" data-toggle=\"collapse\" type=\"button\">\n",
       " <span class=\"sr-only\">Toggle navigation</span>\n",
       " <span class=\"icon-bar top-bar\"></span>\n",
       " <span class=\"icon-bar middle-bar\"></span>\n",
       " <span class=\"icon-bar bottom-bar\"></span>\n",
       " </button>,\n",
       " <h4 class=\"pull-right price\">$24.99</h4>,\n",
       " <p class=\"pull-right\">11 reviews</p>,\n",
       " <h4 class=\"pull-right price\">$57.99</h4>,\n",
       " <p class=\"pull-right\">11 reviews</p>,\n",
       " <h4 class=\"pull-right price\">$93.99</h4>,\n",
       " <p class=\"pull-right\">3 reviews</p>,\n",
       " <h4 class=\"pull-right price\">$109.99</h4>,\n",
       " <p class=\"pull-right\">4 reviews</p>,\n",
       " <h4 class=\"pull-right price\">$118.99</h4>,\n",
       " <p class=\"pull-right\">6 reviews</p>,\n",
       " <h4 class=\"pull-right price\">$499.99</h4>,\n",
       " <p class=\"pull-right\">2 reviews</p>,\n",
       " <h4 class=\"pull-right price\">$899.99</h4>,\n",
       " <p class=\"pull-right\">10 reviews</p>,\n",
       " <h4 class=\"pull-right price\">$899.99</h4>,\n",
       " <p class=\"pull-right\">8 reviews</p>,\n",
       " <h4 class=\"pull-right price\">$899.99</h4>,\n",
       " <p class=\"pull-right\">1 reviews</p>]"
      ]
     },
     "execution_count": 63,
     "metadata": {},
     "output_type": "execute_result"
    }
   ],
   "source": [
    "soup.find_all(attrs=re.compile('pull-right'))"
   ]
  },
  {
   "cell_type": "code",
   "execution_count": 69,
   "id": "8ebca259",
   "metadata": {},
   "outputs": [
    {
     "data": {
      "text/plain": [
       "[<p class=\"pull-right\">11 reviews</p>,\n",
       " <p class=\"pull-right\">11 reviews</p>,\n",
       " <p class=\"pull-right\">3 reviews</p>,\n",
       " <p class=\"pull-right\">4 reviews</p>,\n",
       " <p class=\"pull-right\">6 reviews</p>,\n",
       " <p class=\"pull-right\">2 reviews</p>,\n",
       " <p class=\"pull-right\">10 reviews</p>,\n",
       " <p class=\"pull-right\">8 reviews</p>,\n",
       " <p class=\"pull-right\">1 reviews</p>]"
      ]
     },
     "execution_count": 69,
     "metadata": {},
     "output_type": "execute_result"
    }
   ],
   "source": [
    "soup.find_all('p',class_=re.compile('pull'))"
   ]
  },
  {
   "cell_type": "code",
   "execution_count": 70,
   "id": "08f416fe",
   "metadata": {},
   "outputs": [
    {
     "data": {
      "text/plain": [
       "[<p class=\"pull-right\">11 reviews</p>,\n",
       " <p class=\"pull-right\">11 reviews</p>,\n",
       " <p class=\"pull-right\">3 reviews</p>]"
      ]
     },
     "execution_count": 70,
     "metadata": {},
     "output_type": "execute_result"
    }
   ],
   "source": [
    "soup.find_all('p',class_=re.compile('pull'),limit=3)"
   ]
  },
  {
   "cell_type": "code",
   "execution_count": 100,
   "id": "ca1eb646",
   "metadata": {},
   "outputs": [
    {
     "ename": "AttributeError",
     "evalue": "ResultSet object has no attribute 'text'. You're probably treating a list of elements like a single element. Did you call find_all() when you meant to call find()?",
     "output_type": "error",
     "traceback": [
      "\u001b[1;31m---------------------------------------------------------------------------\u001b[0m",
      "\u001b[1;31mAttributeError\u001b[0m                            Traceback (most recent call last)",
      "Input \u001b[1;32mIn [100]\u001b[0m, in \u001b[0;36m<module>\u001b[1;34m\u001b[0m\n\u001b[0;32m      8\u001b[0m review\u001b[38;5;241m=\u001b[39m[]\n\u001b[0;32m      9\u001b[0m \u001b[38;5;28;01mfor\u001b[39;00m i \u001b[38;5;129;01min\u001b[39;00m product_name:\n\u001b[1;32m---> 10\u001b[0m     product\u001b[38;5;241m.\u001b[39mappend(\u001b[43mproduct_name\u001b[49m\u001b[38;5;241;43m.\u001b[39;49m\u001b[43mtext\u001b[49m)\n\u001b[0;32m     11\u001b[0m \u001b[38;5;28;01mfor\u001b[39;00m i \u001b[38;5;129;01min\u001b[39;00m description:\n\u001b[0;32m     12\u001b[0m     desc\u001b[38;5;241m.\u001b[39mappend(description\u001b[38;5;241m.\u001b[39mtext)\n",
      "File \u001b[1;32m~\\AppData\\Local\\Programs\\Python\\Python310\\lib\\site-packages\\bs4\\element.py:2289\u001b[0m, in \u001b[0;36mResultSet.__getattr__\u001b[1;34m(self, key)\u001b[0m\n\u001b[0;32m   2287\u001b[0m \u001b[38;5;28;01mdef\u001b[39;00m \u001b[38;5;21m__getattr__\u001b[39m(\u001b[38;5;28mself\u001b[39m, key):\n\u001b[0;32m   2288\u001b[0m     \u001b[38;5;124;03m\"\"\"Raise a helpful exception to explain a common code fix.\"\"\"\u001b[39;00m\n\u001b[1;32m-> 2289\u001b[0m     \u001b[38;5;28;01mraise\u001b[39;00m \u001b[38;5;167;01mAttributeError\u001b[39;00m(\n\u001b[0;32m   2290\u001b[0m         \u001b[38;5;124m\"\u001b[39m\u001b[38;5;124mResultSet object has no attribute \u001b[39m\u001b[38;5;124m'\u001b[39m\u001b[38;5;132;01m%s\u001b[39;00m\u001b[38;5;124m'\u001b[39m\u001b[38;5;124m. You\u001b[39m\u001b[38;5;124m'\u001b[39m\u001b[38;5;124mre probably treating a list of elements like a single element. Did you call find_all() when you meant to call find()?\u001b[39m\u001b[38;5;124m\"\u001b[39m \u001b[38;5;241m%\u001b[39m key\n\u001b[0;32m   2291\u001b[0m     )\n",
      "\u001b[1;31mAttributeError\u001b[0m: ResultSet object has no attribute 'text'. You're probably treating a list of elements like a single element. Did you call find_all() when you meant to call find()?"
     ]
    }
   ],
   "source": [
    "product_name= soup.find_all('a',class_='title')\n",
    "description=soup.find_all('p',class_='description')\n",
    "prices =soup.find_all('h4',class_='pull-right price')\n",
    "reviews = soup.find_all('p',class_='pull-right')\n",
    "product=[]\n",
    "desc=[]\n",
    "pri=[]\n",
    "review=[]\n",
    "for i in product_name:\n",
    "    product.append(product_name.text)\n",
    "for i in description:\n",
    "    desc.append(description.text)\n",
    "for i in prices:\n",
    "    pri.append(prices.text)\n",
    "for i in reviews:\n",
    "    review.append(reviews.text)\n",
    "\n",
    "    "
   ]
  },
  {
   "cell_type": "code",
   "execution_count": 81,
   "id": "3f16962f",
   "metadata": {},
   "outputs": [
    {
     "data": {
      "text/plain": [
       "[<a class=\"title\" href=\"/test-sites/e-commerce/allinone/product/486\" title=\"Nokia 123\">Nokia 123</a>,\n",
       " <a class=\"title\" href=\"/test-sites/e-commerce/allinone/product/487\" title=\"LG Optimus\">LG Optimus</a>,\n",
       " <a class=\"title\" href=\"/test-sites/e-commerce/allinone/product/488\" title=\"Samsung Galaxy\">Samsung Galaxy</a>]"
      ]
     },
     "execution_count": 81,
     "metadata": {},
     "output_type": "execute_result"
    }
   ],
   "source": [
    "product_name[:3]"
   ]
  },
  {
   "cell_type": "code",
   "execution_count": 82,
   "id": "e0f8fba6",
   "metadata": {},
   "outputs": [
    {
     "data": {
      "text/plain": [
       "[<a class=\"title\" href=\"/test-sites/e-commerce/allinone/product/486\" title=\"Nokia 123\">Nokia 123</a>,\n",
       " <a class=\"title\" href=\"/test-sites/e-commerce/allinone/product/487\" title=\"LG Optimus\">LG Optimus</a>,\n",
       " <a class=\"title\" href=\"/test-sites/e-commerce/allinone/product/488\" title=\"Samsung Galaxy\">Samsung Galaxy</a>,\n",
       " <a class=\"title\" href=\"/test-sites/e-commerce/allinone/product/489\" title=\"Nokia X\">Nokia X</a>,\n",
       " <a class=\"title\" href=\"/test-sites/e-commerce/allinone/product/490\" title=\"Sony Xperia\">Sony Xperia</a>,\n",
       " <a class=\"title\" href=\"/test-sites/e-commerce/allinone/product/491\" title=\"Ubuntu Edge\">Ubuntu Edge</a>,\n",
       " <a class=\"title\" href=\"/test-sites/e-commerce/allinone/product/492\" title=\"Iphone\">Iphone</a>,\n",
       " <a class=\"title\" href=\"/test-sites/e-commerce/allinone/product/493\" title=\"Iphone\">Iphone</a>,\n",
       " <a class=\"title\" href=\"/test-sites/e-commerce/allinone/product/494\" title=\"Iphone\">Iphone</a>]"
      ]
     },
     "execution_count": 82,
     "metadata": {},
     "output_type": "execute_result"
    }
   ],
   "source": [
    "product_name"
   ]
  },
  {
   "cell_type": "code",
   "execution_count": 83,
   "id": "f50a65bd",
   "metadata": {},
   "outputs": [],
   "source": [
    "price =soup.find_all('h4',class_='pull-right price')"
   ]
  },
  {
   "cell_type": "code",
   "execution_count": 84,
   "id": "9c82f396",
   "metadata": {},
   "outputs": [
    {
     "data": {
      "text/plain": [
       "[<h4 class=\"pull-right price\">$24.99</h4>,\n",
       " <h4 class=\"pull-right price\">$57.99</h4>,\n",
       " <h4 class=\"pull-right price\">$93.99</h4>,\n",
       " <h4 class=\"pull-right price\">$109.99</h4>,\n",
       " <h4 class=\"pull-right price\">$118.99</h4>,\n",
       " <h4 class=\"pull-right price\">$499.99</h4>,\n",
       " <h4 class=\"pull-right price\">$899.99</h4>,\n",
       " <h4 class=\"pull-right price\">$899.99</h4>,\n",
       " <h4 class=\"pull-right price\">$899.99</h4>]"
      ]
     },
     "execution_count": 84,
     "metadata": {},
     "output_type": "execute_result"
    }
   ],
   "source": [
    "price"
   ]
  },
  {
   "cell_type": "code",
   "execution_count": 87,
   "id": "681ac5ef",
   "metadata": {},
   "outputs": [
    {
     "data": {
      "text/plain": [
       "[<p class=\"pull-right\">11 reviews</p>,\n",
       " <p class=\"pull-right\">11 reviews</p>,\n",
       " <p class=\"pull-right\">3 reviews</p>,\n",
       " <p class=\"pull-right\">4 reviews</p>,\n",
       " <p class=\"pull-right\">6 reviews</p>,\n",
       " <p class=\"pull-right\">2 reviews</p>,\n",
       " <p class=\"pull-right\">10 reviews</p>,\n",
       " <p class=\"pull-right\">8 reviews</p>,\n",
       " <p class=\"pull-right\">1 reviews</p>]"
      ]
     },
     "execution_count": 87,
     "metadata": {},
     "output_type": "execute_result"
    }
   ],
   "source": [
    "reviews = soup.find_all('p',class_='pull-right')\n",
    "reviews\n"
   ]
  },
  {
   "cell_type": "code",
   "execution_count": 88,
   "id": "2b903a67",
   "metadata": {},
   "outputs": [],
   "source": [
    "description = soup.find_all('p',class_='description')"
   ]
  },
  {
   "cell_type": "code",
   "execution_count": 89,
   "id": "35229807",
   "metadata": {},
   "outputs": [
    {
     "data": {
      "text/plain": [
       "[<p class=\"description\">7 day battery</p>,\n",
       " <p class=\"description\">3.2\" screen</p>,\n",
       " <p class=\"description\">5 mpx. Android 5.0</p>,\n",
       " <p class=\"description\">Andoid, Jolla dualboot</p>,\n",
       " <p class=\"description\">GPS, waterproof</p>,\n",
       " <p class=\"description\">Sapphire glass</p>,\n",
       " <p class=\"description\">White</p>,\n",
       " <p class=\"description\">Silver</p>,\n",
       " <p class=\"description\">Black</p>]"
      ]
     },
     "execution_count": 89,
     "metadata": {},
     "output_type": "execute_result"
    }
   ],
   "source": [
    "description"
   ]
  },
  {
   "cell_type": "code",
   "execution_count": 90,
   "id": "09f310b3",
   "metadata": {},
   "outputs": [],
   "source": [
    "list=[product_name ,price,reviews ,description]"
   ]
  },
  {
   "cell_type": "code",
   "execution_count": 92,
   "id": "5b47c9d8",
   "metadata": {},
   "outputs": [
    {
     "data": {
      "text/plain": [
       "[[<a class=\"title\" href=\"/test-sites/e-commerce/allinone/product/486\" title=\"Nokia 123\">Nokia 123</a>,\n",
       "  <a class=\"title\" href=\"/test-sites/e-commerce/allinone/product/487\" title=\"LG Optimus\">LG Optimus</a>,\n",
       "  <a class=\"title\" href=\"/test-sites/e-commerce/allinone/product/488\" title=\"Samsung Galaxy\">Samsung Galaxy</a>,\n",
       "  <a class=\"title\" href=\"/test-sites/e-commerce/allinone/product/489\" title=\"Nokia X\">Nokia X</a>,\n",
       "  <a class=\"title\" href=\"/test-sites/e-commerce/allinone/product/490\" title=\"Sony Xperia\">Sony Xperia</a>,\n",
       "  <a class=\"title\" href=\"/test-sites/e-commerce/allinone/product/491\" title=\"Ubuntu Edge\">Ubuntu Edge</a>,\n",
       "  <a class=\"title\" href=\"/test-sites/e-commerce/allinone/product/492\" title=\"Iphone\">Iphone</a>,\n",
       "  <a class=\"title\" href=\"/test-sites/e-commerce/allinone/product/493\" title=\"Iphone\">Iphone</a>,\n",
       "  <a class=\"title\" href=\"/test-sites/e-commerce/allinone/product/494\" title=\"Iphone\">Iphone</a>],\n",
       " [<h4 class=\"pull-right price\">$24.99</h4>,\n",
       "  <h4 class=\"pull-right price\">$57.99</h4>,\n",
       "  <h4 class=\"pull-right price\">$93.99</h4>,\n",
       "  <h4 class=\"pull-right price\">$109.99</h4>,\n",
       "  <h4 class=\"pull-right price\">$118.99</h4>,\n",
       "  <h4 class=\"pull-right price\">$499.99</h4>,\n",
       "  <h4 class=\"pull-right price\">$899.99</h4>,\n",
       "  <h4 class=\"pull-right price\">$899.99</h4>,\n",
       "  <h4 class=\"pull-right price\">$899.99</h4>],\n",
       " [<p class=\"pull-right\">11 reviews</p>,\n",
       "  <p class=\"pull-right\">11 reviews</p>,\n",
       "  <p class=\"pull-right\">3 reviews</p>,\n",
       "  <p class=\"pull-right\">4 reviews</p>,\n",
       "  <p class=\"pull-right\">6 reviews</p>,\n",
       "  <p class=\"pull-right\">2 reviews</p>,\n",
       "  <p class=\"pull-right\">10 reviews</p>,\n",
       "  <p class=\"pull-right\">8 reviews</p>,\n",
       "  <p class=\"pull-right\">1 reviews</p>],\n",
       " [<p class=\"description\">7 day battery</p>,\n",
       "  <p class=\"description\">3.2\" screen</p>,\n",
       "  <p class=\"description\">5 mpx. Android 5.0</p>,\n",
       "  <p class=\"description\">Andoid, Jolla dualboot</p>,\n",
       "  <p class=\"description\">GPS, waterproof</p>,\n",
       "  <p class=\"description\">Sapphire glass</p>,\n",
       "  <p class=\"description\">White</p>,\n",
       "  <p class=\"description\">Silver</p>,\n",
       "  <p class=\"description\">Black</p>]]"
      ]
     },
     "execution_count": 92,
     "metadata": {},
     "output_type": "execute_result"
    }
   ],
   "source": [
    "list"
   ]
  },
  {
   "cell_type": "code",
   "execution_count": 94,
   "id": "cd81917e",
   "metadata": {},
   "outputs": [
    {
     "name": "stdout",
     "output_type": "stream",
     "text": [
      "7 day battery\n",
      "3.2\" screen\n",
      "5 mpx. Android 5.0\n",
      "Andoid, Jolla dualboot\n",
      "GPS, waterproof\n",
      "Sapphire glass\n",
      "White\n",
      "Silver\n",
      "Black\n"
     ]
    }
   ],
   "source": [
    "''' in all the above data we have the html commands but we dont need that all so we can remove that using .text'''\n",
    "# example\n",
    "for i in description:\n",
    "    print(i.text)\n"
   ]
  },
  {
   "cell_type": "code",
   "execution_count": 97,
   "id": "353ffcd7",
   "metadata": {},
   "outputs": [
    {
     "name": "stdout",
     "output_type": "stream",
     "text": [
      "11 reviews\n",
      "11 reviews\n",
      "3 reviews\n",
      "4 reviews\n",
      "6 reviews\n",
      "2 reviews\n",
      "10 reviews\n",
      "8 reviews\n",
      "1 reviews\n"
     ]
    }
   ],
   "source": [
    "for i in reviews:\n",
    "    print(i.text)"
   ]
  },
  {
   "cell_type": "code",
   "execution_count": null,
   "id": "28a533f3",
   "metadata": {},
   "outputs": [],
   "source": [
    "# for i in enumerate(product_name, reviews ,prices):\n",
    "#     names=product_name.text\n",
    "#     =prices.text"
   ]
  },
  {
   "cell_type": "code",
   "execution_count": 101,
   "id": "d3384438",
   "metadata": {},
   "outputs": [],
   "source": [
    "product_name_list=[]\n",
    "prices_list=[]\n",
    "rev=[]\n",
    "description_list=[]\n",
    "for i in product_name:\n",
    "    name=i.text\n",
    "    product_name_list.append(name)\n",
    "for i in reviews:\n",
    "    name=i.text\n",
    "    rev.append(name)\n",
    "for i in description:\n",
    "    name=i.text\n",
    "    description_list.append(name)\n",
    "for i in prices:\n",
    "    name=i.text\n",
    "    prices_list.append(name)\n"
   ]
  },
  {
   "cell_type": "code",
   "execution_count": 103,
   "id": "511c5089",
   "metadata": {},
   "outputs": [],
   "source": [
    "import pandas as pd\n"
   ]
  },
  {
   "cell_type": "code",
   "execution_count": 105,
   "id": "2b28e95d",
   "metadata": {},
   "outputs": [
    {
     "data": {
      "text/html": [
       "<div>\n",
       "<style scoped>\n",
       "    .dataframe tbody tr th:only-of-type {\n",
       "        vertical-align: middle;\n",
       "    }\n",
       "\n",
       "    .dataframe tbody tr th {\n",
       "        vertical-align: top;\n",
       "    }\n",
       "\n",
       "    .dataframe thead th {\n",
       "        text-align: right;\n",
       "    }\n",
       "</style>\n",
       "<table border=\"1\" class=\"dataframe\">\n",
       "  <thead>\n",
       "    <tr style=\"text-align: right;\">\n",
       "      <th></th>\n",
       "      <th>Product Name</th>\n",
       "      <th>Price</th>\n",
       "      <th>Description</th>\n",
       "      <th>Review</th>\n",
       "    </tr>\n",
       "  </thead>\n",
       "  <tbody>\n",
       "    <tr>\n",
       "      <th>0</th>\n",
       "      <td>Nokia 123</td>\n",
       "      <td>$24.99</td>\n",
       "      <td>7 day battery</td>\n",
       "      <td>11 reviews</td>\n",
       "    </tr>\n",
       "    <tr>\n",
       "      <th>1</th>\n",
       "      <td>LG Optimus</td>\n",
       "      <td>$57.99</td>\n",
       "      <td>3.2\" screen</td>\n",
       "      <td>11 reviews</td>\n",
       "    </tr>\n",
       "    <tr>\n",
       "      <th>2</th>\n",
       "      <td>Samsung Galaxy</td>\n",
       "      <td>$93.99</td>\n",
       "      <td>5 mpx. Android 5.0</td>\n",
       "      <td>3 reviews</td>\n",
       "    </tr>\n",
       "    <tr>\n",
       "      <th>3</th>\n",
       "      <td>Nokia X</td>\n",
       "      <td>$109.99</td>\n",
       "      <td>Andoid, Jolla dualboot</td>\n",
       "      <td>4 reviews</td>\n",
       "    </tr>\n",
       "    <tr>\n",
       "      <th>4</th>\n",
       "      <td>Sony Xperia</td>\n",
       "      <td>$118.99</td>\n",
       "      <td>GPS, waterproof</td>\n",
       "      <td>6 reviews</td>\n",
       "    </tr>\n",
       "    <tr>\n",
       "      <th>5</th>\n",
       "      <td>Ubuntu Edge</td>\n",
       "      <td>$499.99</td>\n",
       "      <td>Sapphire glass</td>\n",
       "      <td>2 reviews</td>\n",
       "    </tr>\n",
       "    <tr>\n",
       "      <th>6</th>\n",
       "      <td>Iphone</td>\n",
       "      <td>$899.99</td>\n",
       "      <td>White</td>\n",
       "      <td>10 reviews</td>\n",
       "    </tr>\n",
       "    <tr>\n",
       "      <th>7</th>\n",
       "      <td>Iphone</td>\n",
       "      <td>$899.99</td>\n",
       "      <td>Silver</td>\n",
       "      <td>8 reviews</td>\n",
       "    </tr>\n",
       "    <tr>\n",
       "      <th>8</th>\n",
       "      <td>Iphone</td>\n",
       "      <td>$899.99</td>\n",
       "      <td>Black</td>\n",
       "      <td>1 reviews</td>\n",
       "    </tr>\n",
       "  </tbody>\n",
       "</table>\n",
       "</div>"
      ],
      "text/plain": [
       "     Product Name    Price             Description      Review\n",
       "0       Nokia 123   $24.99           7 day battery  11 reviews\n",
       "1      LG Optimus   $57.99             3.2\" screen  11 reviews\n",
       "2  Samsung Galaxy   $93.99      5 mpx. Android 5.0   3 reviews\n",
       "3         Nokia X  $109.99  Andoid, Jolla dualboot   4 reviews\n",
       "4     Sony Xperia  $118.99         GPS, waterproof   6 reviews\n",
       "5     Ubuntu Edge  $499.99          Sapphire glass   2 reviews\n",
       "6          Iphone  $899.99                   White  10 reviews\n",
       "7          Iphone  $899.99                  Silver   8 reviews\n",
       "8          Iphone  $899.99                   Black   1 reviews"
      ]
     },
     "execution_count": 105,
     "metadata": {},
     "output_type": "execute_result"
    }
   ],
   "source": [
    "pd.DataFrame({'Product Name':product_name_list,'Price':prices_list,'Description':description_list,'Review':rev})"
   ]
  },
  {
   "cell_type": "code",
   "execution_count": 110,
   "id": "5a9dabf5",
   "metadata": {},
   "outputs": [
    {
     "data": {
      "text/plain": [
       "9"
      ]
     },
     "execution_count": 110,
     "metadata": {},
     "output_type": "execute_result"
    }
   ],
   "source": [
    "boxes=soup.find_all('div',class_='col-sm-4 col-lg-4 col-md-4')\n",
    "len(boxes )\n",
    "# all the boxes are now captured in this boxes variable\n"
   ]
  },
  {
   "cell_type": "code",
   "execution_count": 119,
   "id": "cc44f2c4",
   "metadata": {},
   "outputs": [
    {
     "data": {
      "text/plain": [
       "'Samsung Galaxy'"
      ]
     },
     "execution_count": 119,
     "metadata": {},
     "output_type": "execute_result"
    }
   ],
   "source": [
    "boxes[2].find('a').text"
   ]
  },
  {
   "cell_type": "code",
   "execution_count": 121,
   "id": "dedebdf7",
   "metadata": {},
   "outputs": [
    {
     "data": {
      "text/plain": [
       "'5 mpx. Android 5.0'"
      ]
     },
     "execution_count": 121,
     "metadata": {},
     "output_type": "execute_result"
    }
   ],
   "source": [
    "boxes[2].find('p',class_='description').text"
   ]
  },
  {
   "cell_type": "code",
   "execution_count": 122,
   "id": "cb3fec6d",
   "metadata": {},
   "outputs": [],
   "source": [
    "box2=soup.find_all('ul',class_='nav',id='side-menu')"
   ]
  },
  {
   "cell_type": "code",
   "execution_count": 126,
   "id": "5b4ed0e9",
   "metadata": {},
   "outputs": [
    {
     "data": {
      "text/plain": [
       "[<li>\n",
       " <a href=\"/test-sites/e-commerce/allinone\">Home</a>\n",
       " </li>,\n",
       " <li>\n",
       " <a class=\"category-link\" href=\"/test-sites/e-commerce/allinone/computers\">\n",
       " \t\t\t\t\tComputers\n",
       " \t\t\t\t\t<span class=\"fa arrow\"></span>\n",
       " </a>\n",
       " </li>,\n",
       " <li class=\"active\">\n",
       " <a class=\"category-link\" href=\"/test-sites/e-commerce/allinone/phones\">\n",
       " \t\t\t\t\tPhones\n",
       " \t\t\t\t\t<span class=\"fa arrow\"></span>\n",
       " </a>\n",
       " <ul class=\"nav nav-second-level collapse in\">\n",
       " <li>\n",
       " <a class=\"subcategory-link active\" href=\"/test-sites/e-commerce/allinone/phones/touch\">\n",
       " \t\t\t\t\t\t\tTouch\n",
       " \t\t\t\t\t\t</a>\n",
       " </li>\n",
       " </ul>\n",
       " </li>,\n",
       " <li>\n",
       " <a class=\"subcategory-link active\" href=\"/test-sites/e-commerce/allinone/phones/touch\">\n",
       " \t\t\t\t\t\t\tTouch\n",
       " \t\t\t\t\t\t</a>\n",
       " </li>]"
      ]
     },
     "execution_count": 126,
     "metadata": {},
     "output_type": "execute_result"
    }
   ],
   "source": [
    "box2[0].find_all('li')"
   ]
  },
  {
   "cell_type": "code",
   "execution_count": null,
   "id": "1e078bec",
   "metadata": {},
   "outputs": [],
   "source": []
  }
 ],
 "metadata": {
  "kernelspec": {
   "display_name": "Python 3",
   "language": "python",
   "name": "python3"
  },
  "language_info": {
   "codemirror_mode": {
    "name": "ipython",
    "version": 3
   },
   "file_extension": ".py",
   "mimetype": "text/x-python",
   "name": "python",
   "nbconvert_exporter": "python",
   "pygments_lexer": "ipython3",
   "version": "3.10.7"
  }
 },
 "nbformat": 4,
 "nbformat_minor": 5
}
