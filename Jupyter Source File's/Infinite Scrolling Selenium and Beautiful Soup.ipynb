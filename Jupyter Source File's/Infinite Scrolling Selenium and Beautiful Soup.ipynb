{
 "cells": [
  {
   "cell_type": "code",
   "execution_count": 1,
   "id": "7615c476",
   "metadata": {},
   "outputs": [],
   "source": [
    "import selenium \n",
    "from bs4 import BeautifulSoup\n",
    "import pandas as pd\n",
    "import time \n",
    "import numpy as np\n",
    "from selenium import webdriver"
   ]
  },
  {
   "cell_type": "code",
   "execution_count": 3,
   "id": "e6aa5b23",
   "metadata": {},
   "outputs": [
    {
     "name": "stderr",
     "output_type": "stream",
     "text": [
      "C:\\Users\\asus\\AppData\\Local\\Temp\\ipykernel_10964\\2457027625.py:1: DeprecationWarning: executable_path has been deprecated, please pass in a Service object\n",
      "  driver = webdriver.Chrome('C:\\\\Users\\\\asus\\\\OneDrive\\\\Desktop\\\\Drivers\\\\chromedriver.exe')\n"
     ]
    }
   ],
   "source": [
    "driver = webdriver.Chrome('C:\\\\Users\\\\asus\\\\OneDrive\\\\Desktop\\\\Drivers\\\\chromedriver.exe')\n",
    "driver.get('https://www.nike.com/')"
   ]
  },
  {
   "cell_type": "code",
   "execution_count": 6,
   "id": "95a3f635",
   "metadata": {},
   "outputs": [],
   "source": [
    "driver.find_element(by ='xpath',value ='//*[@id=\"gen-nav-commerce-header-v2\"]/div[3]/header/div/div[1]/div[2]/nav/div[2]/ul/li[5]/a').click()"
   ]
  },
  {
   "cell_type": "code",
   "execution_count": 8,
   "id": "10f53b41",
   "metadata": {},
   "outputs": [
    {
     "name": "stdout",
     "output_type": "stream",
     "text": [
      "6648\n"
     ]
    }
   ],
   "source": [
    "last_height  =driver.execute_script('return document.body.scrollHeight')\n",
    "print(last_height)"
   ]
  },
  {
   "cell_type": "markdown",
   "id": "bd179dcf",
   "metadata": {},
   "source": [
    "# Infinite Scrolling Universal Code \n"
   ]
  },
  {
   "cell_type": "code",
   "execution_count": 23,
   "id": "1db2ee83",
   "metadata": {},
   "outputs": [],
   "source": [
    "last_height  =driver.execute_script('return document.body.scrollHeight')\n",
    "while True:\n",
    "    driver.execute_script('window.scrollTo(0,document.body.scrollHeight)')\n",
    "    time.sleep(2)\n",
    "    new_height  = driver.execute_script('return document.body.scrollHeight')\n",
    "    if new_height  == last_height:\n",
    "        break\n",
    "    else:\n",
    "        last_height  = new_height"
   ]
  },
  {
   "cell_type": "markdown",
   "id": "ad4d2838",
   "metadata": {},
   "source": [
    "## Scraping the NIKE Website Using infinite scroll."
   ]
  },
  {
   "cell_type": "code",
   "execution_count": 30,
   "id": "c5656428",
   "metadata": {},
   "outputs": [],
   "source": [
    "last_height  =driver.execute_script('return document.body.scrollHeight')\n",
    "while True:\n",
    "    driver.execute_script('window.scrollTo(0,document.body.scrollHeight)')\n",
    "    time.sleep(2)\n",
    "    new_height  = driver.execute_script('return document.body.scrollHeight')\n",
    "    if new_height  == last_height:\n",
    "        break\n",
    "    else:\n",
    "        last_height  = new_height\n",
    "        \n",
    "soup = BeautifulSoup(driver.page_source,'lxml')\n",
    "product_card =  soup.find_all('div',class_='product-card__body')\n",
    "df= pd.DataFrame({'link':[''],'title':[''],'discounted price':[''],'max price':['']})\n",
    "for product in product_card:\n",
    "    try:\n",
    "        link = product.find('a',class_='product-card__link-overlay').get('href')\n",
    "        name = product.find('a',class_='product-card__link-overlay').text\n",
    "        dSprice = product.find('div',class_='product-price is--current-price css-1ydfahe').text\n",
    "        Acprice =product.find('div',class_='product-price in__styling is--striked-out css-0').text\n",
    "        length = len(df)\n",
    "        df.loc[length] = {'link':link,'title':name,'discounted price':dSprice,'max price':Acprice}\n",
    "        \n",
    "    except:\n",
    "        pass"
   ]
  },
  {
   "cell_type": "markdown",
   "id": "6270618f",
   "metadata": {},
   "source": [
    "## Saving the csv file "
   ]
  },
  {
   "cell_type": "code",
   "execution_count": 32,
   "id": "c3c708a1",
   "metadata": {},
   "outputs": [],
   "source": [
    "import os\n",
    "os.chdir('C:\\\\Users\\\\asus\\\\OneDrive\\\\Desktop\\\\UDEMY_DATA_SCRAPING_CHRISTOPHER_ZITA')\n",
    "df.to_csv('Nike_Data_Scraping.csv')"
   ]
  },
  {
   "cell_type": "code",
   "execution_count": null,
   "id": "a72f5207",
   "metadata": {},
   "outputs": [],
   "source": []
  }
 ],
 "metadata": {
  "kernelspec": {
   "display_name": "Python 3",
   "language": "python",
   "name": "python3"
  },
  "language_info": {
   "codemirror_mode": {
    "name": "ipython",
    "version": 3
   },
   "file_extension": ".py",
   "mimetype": "text/x-python",
   "name": "python",
   "nbconvert_exporter": "python",
   "pygments_lexer": "ipython3",
   "version": "3.10.7"
  }
 },
 "nbformat": 4,
 "nbformat_minor": 5
}
